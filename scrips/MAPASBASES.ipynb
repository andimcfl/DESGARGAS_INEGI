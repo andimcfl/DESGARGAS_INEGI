{
 "cells": [
  {
   "cell_type": "code",
   "execution_count": 1,
   "id": "07110907-09ad-43ae-829c-ca5cdaf94c46",
   "metadata": {},
   "outputs": [],
   "source": [
    "import geopandas as gpd\n",
    "from shapely.geometry import box\n",
    "from osgeo import gdal\n",
    "from copy import deepcopy\n",
    "import os, math\n",
    "import numpy as np\n",
    "import requests\n",
    "import pandas as pd\n",
    "from urllib.parse import urlparse\n",
    "from selenium import webdriver\n",
    "from selenium.webdriver.chrome.service import Service\n",
    "from selenium.webdriver.common.by import By\n",
    "from selenium.webdriver.support.ui import WebDriverWait\n",
    "from selenium.webdriver.support import expected_conditions as EC\n",
    "from selenium.webdriver.common.keys import Keys\n",
    "import time\n",
    "import zipfile\n",
    "import warnings"
   ]
  },
  {
   "cell_type": "code",
   "execution_count": 2,
   "id": "a4586822-c2c7-498d-a9eb-976c05a1d1a4",
   "metadata": {},
   "outputs": [],
   "source": [
    "os.chdir(r\"C:\\Users\\andim\\Documents\\AMANALCO\""
   ]
  },
  {
   "cell_type": "code",
   "execution_count": 3,
   "id": "c98f5248-4433-4602-9180-e0cedb3d1117",
   "metadata": {},
   "outputs": [
    {
     "name": "stdout",
     "output_type": "stream",
     "text": [
      "Carga completa\n"
     ]
    }
   ],
   "source": [
    "LIMITE_MUNICIPAL = gpd.read_file(\"C:/Users/andim/Documents/MAPA BASE/INSUMOS BASE/00mun.shp\").to_crs(epsg=6372)\n",
    "print (\"Carga completa\")\n",
    "\n",
    "def buscar_municipio(nom_ent, nomgeo):\n",
    "    resultado = LIMITE_MUNICIPAL[(LIMITE_MUNICIPAL['NOM_ENT'] == nom_ent) & (LIMITE_MUNICIPAL['NOMGEO'] == nomgeo)]    \n",
    "    if not resultado.empty:\n",
    "        resultado = resultado[['CVE_ENT', 'NOM_ENT', 'NOMGEO', 'CVEGEO']]\n",
    "        print(f\"Municipio encontrado:\\n{resultado}\")\n",
    "    else:\n",
    "        print(f\"No se encontró el municipio con ESTADO '{nom_ent}' y MUNICIPIO '{nomgeo}'.\")\n",
    "    \n",
    "    return resultado"
   ]
  },
  {
   "cell_type": "code",
   "execution_count": 4,
   "id": "85e6cde1-e660-4d02-8663-3cfd043351ad",
   "metadata": {},
   "outputs": [
    {
     "name": "stdout",
     "output_type": "stream",
     "text": [
      "Municipio encontrado:\n",
      "    CVE_ENT           NOM_ENT      NOMGEO CVEGEO\n",
      "286      09  Ciudad de México  Cuauhtémoc  09015\n"
     ]
    }
   ],
   "source": [
    "nom_ent = 'Ciudad de México'\n",
    "nomgeo = 'Cuauhtémoc'\n",
    "resultado = buscar_municipio(nom_ent, nomgeo)"
   ]
  },
  {
   "cell_type": "code",
   "execution_count": 5,
   "id": "fdbe8dd6-8f8a-45c4-bc1f-225115ea9666",
   "metadata": {},
   "outputs": [
    {
     "name": "stdout",
     "output_type": "stream",
     "text": [
      "                                            geometry\n",
      "0  POLYGON ((2801250.362 825359.340, 2801250.362 ...\n"
     ]
    }
   ],
   "source": [
    "cvegeo = '09015' #CAMBIAR\n",
    "cve_ent = '09' #CAMBIAR\n",
    "municipio = LIMITE_MUNICIPAL[LIMITE_MUNICIPAL['CVEGEO'] == cvegeo]\n",
    "bounds = municipio.total_bounds\n",
    "bounding_box = box(bounds[0], bounds[1], bounds[2], bounds[3])\n",
    "buffer = bounding_box.buffer(2000) #área del buffer par recortar\n",
    "#zona_corte = gpd.GeoDataFrame(geometry=[buffer], crs=LIMITE_MUNICIPAL.crs).to_crs(epsg=6372) #Cortar con base en un buffer\n",
    "zona_corte = gpd.GeoDataFrame(geometry=[bounding_box], crs=LIMITE_MUNICIPAL.crs).to_crs(epsg=6372) #Cortar con base en las coordenadas límites\n",
    "print(zona_corte)"
   ]
  },
  {
   "cell_type": "code",
   "execution_count": 6,
   "id": "7713fa62-33b6-4dbc-ba3b-12a999d1049d",
   "metadata": {},
   "outputs": [],
   "source": [
    "zona_corte.to_file(f\"C{cvegeo}_ZONACORTE_EP_2025.shp\")"
   ]
  },
  {
   "cell_type": "code",
   "execution_count": 7,
   "id": "661d51aa-abbd-4d81-a5fa-97708fa98494",
   "metadata": {},
   "outputs": [
    {
     "name": "stdout",
     "output_type": "stream",
     "text": [
      "['E14A39']\n"
     ]
    }
   ],
   "source": [
    "cartas = gpd.read_file(r'C:\\Users\\brenp\\Documents\\GitHub\\DESGARGAS_INEGI\\scrips\\INSUMOS BASE\\div50k_lcc.parquet').to_crs(epsg=6372)\n",
    "claves = cartas['CLAVE50K'].unique()\n",
    "claves_en_zona_corte = gpd.sjoin(cartas, zona_corte, how='inner', predicate='intersects')\n",
    "claves_cartas_topograficas = claves_en_zona_corte['CLAVE50K'].unique()\n",
    "print(claves_cartas_topograficas)"
   ]
  },
  {
   "cell_type": "code",
   "execution_count": 8,
   "id": "948d7d21-84d2-4ea2-a8c0-7bf7fe652c7b",
   "metadata": {},
   "outputs": [],
   "source": [
    "# Ruta al WebDriver de Chrome\n",
    "webdriver_path = r'C:\\Users\\andim\\Downloads\\chromedriver-win64\\chromedriver-win64\\chromedriver.exe'\n",
    "options = webdriver.ChromeOptions()\n",
    "#options.add_argument('--headless')\n",
    "options.add_argument('headless=False')\n",
    "options.add_argument('--disable-gpu')\n",
    "service = Service(webdriver_path)\n",
    "driver = webdriver.Chrome(service=service, options=options)"
   ]
  },
  {
   "cell_type": "code",
   "execution_count": 9,
   "id": "5365ed9f-6760-42ce-ab8d-adc38bf91a8c",
   "metadata": {},
   "outputs": [],
   "source": [
    "url = 'https://www.inegi.org.mx/programas/topografia/50000/#descargas'\n",
    "driver.get(url)"
   ]
  },
  {
   "cell_type": "code",
   "execution_count": 10,
   "id": "03812429-77ae-48af-b7b7-92ab6896725b",
   "metadata": {},
   "outputs": [
    {
     "name": "stdout",
     "output_type": "stream",
     "text": [
      "Clave: E14A39 - Edición:  - Enlace de descarga: https://www.inegi.org.mx/contenidos/productos/prod_serv/contenidos/espanol/bvinegi/productos/geografia/imagen_cartografica/1_50_000/889463854135_s.zip\n",
      "Clave: E14A39 - Edición: 2019 - Enlace de descarga: https://www.inegi.org.mx/contenidos/productos/prod_serv/contenidos/espanol/bvinegi/productos/geografia/imagen_cartografica/1_50_000/889463833406_s.zip\n",
      "Clave: E14A39 - Edición: III - Enlace de descarga: https://www.inegi.org.mx/contenidos/productos/prod_serv/contenidos/espanol/bvinegi/productos/geografia/imagen_cartografica/1_50_000/702825266721_s.zip\n",
      "Clave: E14A39 - Edición: II - Enlace de descarga: https://www.inegi.org.mx/contenidos/productos/prod_serv/contenidos/espanol/bvinegi/productos/geografia/imagen_cartografica/1_50_000/702825003701_s.zip\n"
     ]
    }
   ],
   "source": [
    "wait = WebDriverWait(driver, 100)\n",
    "wait.until(EC.presence_of_element_located((By.CSS_SELECTOR, 'input#bcm_resultBusqueda3_input_search')))\n",
    "clave_enlace_list = []\n",
    "def buscar_clave(clave):\n",
    "    search_box = driver.find_element(By.CSS_SELECTOR, 'input#bcm_resultBusqueda3_input_search')\n",
    "    search_button = driver.find_element(By.CSS_SELECTOR, 'button#bcm_buscar_btn_resultBusqueda3')\n",
    "    driver.execute_script(\"arguments[0].scrollIntoView();\", search_box)\n",
    "    driver.execute_script(\"arguments[0].scrollIntoView();\", search_button)\n",
    "    search_box.clear()\n",
    "    search_box.send_keys(clave)\n",
    "    WebDriverWait(driver, 100).until(EC.element_to_be_clickable((By.CSS_SELECTOR, 'button#bcm_buscar_btn_resultBusqueda3')))\n",
    "    driver.execute_script(\"arguments[0].click();\", search_button)\n",
    "    WebDriverWait(driver, 100).until(EC.presence_of_element_located((By.CSS_SELECTOR, 'tbody')))\n",
    "\n",
    "def procesar_filas(clave_buscar):\n",
    "    rows = driver.find_elements(By.CSS_SELECTOR, 'tbody tr')\n",
    "    for row in rows:\n",
    "        try:\n",
    "            clave_element = row.find_element(By.CSS_SELECTOR, 'td:nth-child(1) .tablesaw-cell-content')\n",
    "            clave = clave_element.text.strip()\n",
    "            edicion_element = row.find_element(By.CSS_SELECTOR, 'td:nth-child(4) .tablesaw-cell-content')\n",
    "            edicion = edicion_element.text.strip()\n",
    "            enlace_descarga = None\n",
    "            for i in [8, 9, 10]:\n",
    "                try:\n",
    "                    tipo_archivo_element = row.find_element(By.CSS_SELECTOR, f'td:nth-child({i}) img[src=\"/img/ico/ico_shp.png\"]')\n",
    "                    if tipo_archivo_element:\n",
    "                        enlace_element = row.find_element(By.CSS_SELECTOR, f'td:nth-child({i}) a[href$=\".zip\"]')\n",
    "                        enlace_descarga = enlace_element.get_attribute('href')\n",
    "                        break\n",
    "                except Exception:\n",
    "                    continue\n",
    "            if enlace_descarga:\n",
    "                clave_enlace_list.append((clave, edicion, enlace_descarga))\n",
    "        \n",
    "        except Exception:\n",
    "            continue\n",
    "for clave_buscar in claves_cartas_topograficas:\n",
    "    buscar_clave(clave_buscar)\n",
    "    time.sleep(10)\n",
    "    last_height = driver.execute_script(\"return document.body.scrollHeight\")\n",
    "    while True:\n",
    "        procesar_filas(clave_buscar)\n",
    "        driver.execute_script(\"window.scrollTo(0, document.body.scrollHeight);\")\n",
    "        time.sleep(2)\n",
    "        new_height = driver.execute_script(\"return document.body.scrollHeight\")\n",
    "        if new_height == last_height:\n",
    "            break\n",
    "        last_height = new_height\n",
    "if clave_enlace_list:\n",
    "    for clave, edicion, enlace in clave_enlace_list:\n",
    "        print(f\"Clave: {clave} - Edición: {edicion} - Enlace de descarga: {enlace}\")\n",
    "else:\n",
    "    print(\"No se encontraron resultados para las claves buscadas\")\n",
    "\n",
    "driver.quit()"
   ]
  },
  {
   "cell_type": "code",
   "execution_count": 11,
   "id": "6140fc05-7595-4418-8156-35e8be4fb546",
   "metadata": {},
   "outputs": [
    {
     "name": "stdout",
     "output_type": "stream",
     "text": [
      "Descargado: CARTAS TOPOGRAFICAS\\E14A39_III.zip\n",
      "Descarga completa.\n"
     ]
    }
   ],
   "source": [
    "def descargar_archivo(url, carpeta_destino, nombre_archivo):\n",
    "    respuesta = requests.get(url, stream=True)\n",
    "    ruta_archivo = os.path.join(carpeta_destino, nombre_archivo)\n",
    "    \n",
    "    with open(ruta_archivo, 'wb') as archivo:\n",
    "        for chunk in respuesta.iter_content(chunk_size=32768):\n",
    "            if chunk:\n",
    "                archivo.write(chunk)\n",
    "    \n",
    "    print(f\"Descargado: {ruta_archivo}\")\n",
    "\n",
    "edicion_deseada = \"III\" #SE PUEDE CAMBIAR POR LA SERIE O AÑO DE INTERÉS\n",
    "carpeta_descargas = \"CARTAS TOPOGRAFICAS\" #CAMBIAR\n",
    "os.makedirs(carpeta_descargas, exist_ok=True)\n",
    "\n",
    "for clave, edicion, enlace in clave_enlace_list:\n",
    "    if edicion == edicion_deseada:\n",
    "        nombre_archivo = f\"{clave}_{edicion}.zip\"\n",
    "        descargar_archivo(enlace, carpeta_descargas, nombre_archivo)\n",
    "\n",
    "print(\"Descarga completa.\")"
   ]
  },
  {
   "cell_type": "code",
   "execution_count": 12,
   "id": "2e85a045-f704-41b3-b51f-e3aaab016e56",
   "metadata": {},
   "outputs": [
    {
     "name": "stdout",
     "output_type": "stream",
     "text": [
      "Descomprimido: CARTAS TOPOGRAFICAS\\E14A39_III.zip en CARTAS TOPOGRAFICAS\\E14A39_III\n",
      "Descompresión completa.\n"
     ]
    }
   ],
   "source": [
    "carpeta_zip = 'CARTAS TOPOGRAFICAS' #CAMBIAR\n",
    "os.makedirs(carpeta_zip, exist_ok=True)\n",
    "\n",
    "for archivo_zip in os.listdir(carpeta_zip):\n",
    "    if archivo_zip.endswith('.zip'):\n",
    "        ruta_zip = os.path.join(carpeta_zip, archivo_zip)\n",
    "        nombre = os.path.splitext(archivo_zip)[0]\n",
    "        carpeta = os.path.join(carpeta_zip, nombre)\n",
    "        os.makedirs(carpeta, exist_ok=True)\n",
    "        with zipfile.ZipFile(ruta_zip, 'r') as archivo_zip_obj:\n",
    "            archivo_zip_obj.extractall(carpeta)\n",
    "            print(f\"Descomprimido: {ruta_zip} en {carpeta}\")\n",
    "\n",
    "print(\"Descompresión completa.\")"
   ]
  },
  {
   "cell_type": "code",
   "execution_count": 13,
   "id": "d1ceb6bd-9679-4ab4-9cf6-88ecd29b545e",
   "metadata": {},
   "outputs": [
    {
     "name": "stdout",
     "output_type": "stream",
     "text": [
      "Archivos .shp encontrados en CARTAS TOPOGRAFICAS\\E14A39_III\\conjunto_de_datos:\n",
      "  - CARTAS TOPOGRAFICAS\\E14A39_III\\conjunto_de_datos\\acueducto50_l.shp\n",
      "  - CARTAS TOPOGRAFICAS\\E14A39_III\\conjunto_de_datos\\aeropuerto50_a.shp\n",
      "  - CARTAS TOPOGRAFICAS\\E14A39_III\\conjunto_de_datos\\area_cultiv50_a.shp\n",
      "  - CARTAS TOPOGRAFICAS\\E14A39_III\\conjunto_de_datos\\area_ver_ur50_a.shp\n",
      "  - CARTAS TOPOGRAFICAS\\E14A39_III\\conjunto_de_datos\\ban_mat50_p.shp\n",
      "  - CARTAS TOPOGRAFICAS\\E14A39_III\\conjunto_de_datos\\bordo50_l.shp\n",
      "  - CARTAS TOPOGRAFICAS\\E14A39_III\\conjunto_de_datos\\calle50_l.shp\n",
      "  - CARTAS TOPOGRAFICAS\\E14A39_III\\conjunto_de_datos\\camino50_l.shp\n",
      "  - CARTAS TOPOGRAFICAS\\E14A39_III\\conjunto_de_datos\\canal50_a.shp\n",
      "  - CARTAS TOPOGRAFICAS\\E14A39_III\\conjunto_de_datos\\canal50_l.shp\n",
      "  - CARTAS TOPOGRAFICAS\\E14A39_III\\conjunto_de_datos\\carretera50_l.shp\n",
      "  - CARTAS TOPOGRAFICAS\\E14A39_III\\conjunto_de_datos\\caseta_peaj50_p.shp\n",
      "  - CARTAS TOPOGRAFICAS\\E14A39_III\\conjunto_de_datos\\cementerio50_a.shp\n",
      "  - CARTAS TOPOGRAFICAS\\E14A39_III\\conjunto_de_datos\\cementerio50_p.shp\n",
      "  - CARTAS TOPOGRAFICAS\\E14A39_III\\conjunto_de_datos\\conducto50_l.shp\n",
      "  - CARTAS TOPOGRAFICAS\\E14A39_III\\conjunto_de_datos\\corriente_ag50_l.shp\n",
      "  - CARTAS TOPOGRAFICAS\\E14A39_III\\conjunto_de_datos\\corriente_de50_p.shp\n",
      "  - CARTAS TOPOGRAFICAS\\E14A39_III\\conjunto_de_datos\\cuerpo_agua50_a.shp\n",
      "  - CARTAS TOPOGRAFICAS\\E14A39_III\\conjunto_de_datos\\curva_nivel50_l.shp\n",
      "  - CARTAS TOPOGRAFICAS\\E14A39_III\\conjunto_de_datos\\deposito_des50_p.shp\n",
      "  - CARTAS TOPOGRAFICAS\\E14A39_III\\conjunto_de_datos\\edificacion50_a.shp\n",
      "  - CARTAS TOPOGRAFICAS\\E14A39_III\\conjunto_de_datos\\edificacion50_p.shp\n",
      "  - CARTAS TOPOGRAFICAS\\E14A39_III\\conjunto_de_datos\\estanque50_a.shp\n",
      "  - CARTAS TOPOGRAFICAS\\E14A39_III\\conjunto_de_datos\\estruc_ele50_p.shp\n",
      "  - CARTAS TOPOGRAFICAS\\E14A39_III\\conjunto_de_datos\\faro50_p.shp\n",
      "  - CARTAS TOPOGRAFICAS\\E14A39_III\\conjunto_de_datos\\ins_bombeo50_a.shp\n",
      "  - CARTAS TOPOGRAFICAS\\E14A39_III\\conjunto_de_datos\\ins_bombeo50_p.shp\n",
      "  - CARTAS TOPOGRAFICAS\\E14A39_III\\conjunto_de_datos\\ins_comunica50_p.shp\n",
      "  - CARTAS TOPOGRAFICAS\\E14A39_III\\conjunto_de_datos\\ins_deportiv50_a.shp\n",
      "  - CARTAS TOPOGRAFICAS\\E14A39_III\\conjunto_de_datos\\ins_diversa50_a.shp\n",
      "  - CARTAS TOPOGRAFICAS\\E14A39_III\\conjunto_de_datos\\ins_industr50_a.shp\n",
      "  - CARTAS TOPOGRAFICAS\\E14A39_III\\conjunto_de_datos\\lindero50_l.shp\n",
      "  - CARTAS TOPOGRAFICAS\\E14A39_III\\conjunto_de_datos\\linea_com50_l.shp\n",
      "  - CARTAS TOPOGRAFICAS\\E14A39_III\\conjunto_de_datos\\linea_trans50_l.shp\n",
      "  - CARTAS TOPOGRAFICAS\\E14A39_III\\conjunto_de_datos\\localidad50_a.shp\n",
      "  - CARTAS TOPOGRAFICAS\\E14A39_III\\conjunto_de_datos\\localidad50_p.shp\n",
      "  - CARTAS TOPOGRAFICAS\\E14A39_III\\conjunto_de_datos\\manantial50_p.shp\n",
      "  - CARTAS TOPOGRAFICAS\\E14A39_III\\conjunto_de_datos\\pista_aviac50_a.shp\n",
      "  - CARTAS TOPOGRAFICAS\\E14A39_III\\conjunto_de_datos\\pista_aviac50_l.shp\n",
      "  - CARTAS TOPOGRAFICAS\\E14A39_III\\conjunto_de_datos\\pista_carre50_l.shp\n",
      "  - CARTAS TOPOGRAFICAS\\E14A39_III\\conjunto_de_datos\\presa50_l.shp\n",
      "  - CARTAS TOPOGRAFICAS\\E14A39_III\\conjunto_de_datos\\puente50_l.shp\n",
      "  - CARTAS TOPOGRAFICAS\\E14A39_III\\conjunto_de_datos\\rasgo_arque50_a.shp\n",
      "  - CARTAS TOPOGRAFICAS\\E14A39_III\\conjunto_de_datos\\rasgo_arque50_p.shp\n",
      "  - CARTAS TOPOGRAFICAS\\E14A39_III\\conjunto_de_datos\\referencia50_p.shp\n",
      "  - CARTAS TOPOGRAFICAS\\E14A39_III\\conjunto_de_datos\\subesta_ele50_a.shp\n",
      "  - CARTAS TOPOGRAFICAS\\E14A39_III\\conjunto_de_datos\\subesta_ele50_p.shp\n",
      "  - CARTAS TOPOGRAFICAS\\E14A39_III\\conjunto_de_datos\\tanque50_a.shp\n",
      "  - CARTAS TOPOGRAFICAS\\E14A39_III\\conjunto_de_datos\\tanque50_p.shp\n",
      "  - CARTAS TOPOGRAFICAS\\E14A39_III\\conjunto_de_datos\\tanque_agua50_p.shp\n",
      "  - CARTAS TOPOGRAFICAS\\E14A39_III\\conjunto_de_datos\\terreno_suj50_a.shp\n",
      "  - CARTAS TOPOGRAFICAS\\E14A39_III\\conjunto_de_datos\\tunel50_l.shp\n",
      "  - CARTAS TOPOGRAFICAS\\E14A39_III\\conjunto_de_datos\\vegeta_dens50_a.shp\n",
      "  - CARTAS TOPOGRAFICAS\\E14A39_III\\conjunto_de_datos\\via_ferrea50_l.shp\n"
     ]
    }
   ],
   "source": [
    "# Buscar archivos .shp en una carpeta\n",
    "def buscar_archivos_shp(carpeta):\n",
    "    archivos_shp = []    \n",
    "    for raiz, directorios, archivos in os.walk(carpeta):\n",
    "        for archivo in archivos:\n",
    "            if archivo.endswith('.shp'):\n",
    "                ruta_archivo = os.path.join(raiz, archivo)\n",
    "                archivos_shp.append(ruta_archivo)    \n",
    "    return archivos_shp\n",
    "    \n",
    "for carpeta in os.listdir(carpeta_zip):\n",
    "    ruta_carpeta = os.path.join(carpeta_zip, carpeta)    \n",
    "    if os.path.isdir(ruta_carpeta):\n",
    "        ruta_conjunto_datos = os.path.join(ruta_carpeta, 'conjunto_de_datos')        \n",
    "        if os.path.isdir(ruta_conjunto_datos):\n",
    "            archivos_shp = buscar_archivos_shp(ruta_conjunto_datos)            \n",
    "            if archivos_shp:\n",
    "                print(f\"Archivos .shp encontrados en {ruta_conjunto_datos}:\")\n",
    "                for archivo in archivos_shp:\n",
    "                    print(f\"  - {archivo}\")\n",
    "            else:\n",
    "                print(f\"No se encontraron archivos .shp en {ruta_conjunto_datos}.\")"
   ]
  },
  {
   "cell_type": "code",
   "execution_count": 14,
   "id": "acab0093-f3a4-4f0f-a776-1963e0728e20",
   "metadata": {},
   "outputs": [
    {
     "name": "stdout",
     "output_type": "stream",
     "text": [
      "El GeoDataFrame resultante de acueducto50_l.shp está vacío después del corte.\n",
      "El GeoDataFrame resultante de canal50_l.shp está vacío después del corte.\n",
      "El GeoDataFrame resultante de corriente_ag50_l.shp está vacío después del corte.\n",
      "Archivo unido y cortado guardado en: CARTAS TOPOGRAFICAS\\C09015_CUERPO_AGUA50_A_INEGI_SERIE_III.shp\n",
      "Archivo unido y cortado guardado en: CARTAS TOPOGRAFICAS\\C09015_CURVA_NIVEL50_L_INEGI_SERIE_III.shp\n",
      "El GeoDataFrame resultante de linea_trans50_l.shp está vacío después del corte.\n",
      "El GeoDataFrame resultante de canal50_a.shp está vacío después del corte.\n",
      "El GeoDataFrame resultante de conducto50_l.shp está vacío después del corte.\n",
      "Archivo unido y cortado guardado en: CARTAS TOPOGRAFICAS\\C09015_VIA_FERREA50_L_INEGI_SERIE_III.shp\n",
      "El GeoDataFrame resultante de aeropuerto50_a.shp está vacío después del corte.\n",
      "Proceso de unión y corte completo.\n"
     ]
    }
   ],
   "source": [
    "nombres_archivos = ['acueducto50_l.shp', 'canal50_l.shp', 'corriente_ag50_l.shp','cuerpo_agua50_a.shp', 'curva_nivel50_l.shp', 'linea_trans50_l.shp','canal50_a.shp', 'conducto50_l.shp', 'via_ferrea50_l.shp','aeropuerto50_a.shp']\n",
    "def buscar_archivos(carpeta, nombres_archivos):\n",
    "    archivos_encontrados = {nombre: [] for nombre in nombres_archivos}\n",
    "    for raiz, directorios, archivos in os.walk(carpeta):\n",
    "        for archivo in archivos:\n",
    "            if archivo in nombres_archivos:\n",
    "                archivos_encontrados[archivo].append(os.path.join(raiz, archivo))\n",
    "    return archivos_encontrados\n",
    "carpeta_zip = 'CARTAS TOPOGRAFICAS'\n",
    "gdfs_dict = {nombre: [] for nombre in nombres_archivos}\n",
    "for carpeta in os.listdir(carpeta_zip):\n",
    "    ruta = os.path.join(carpeta_zip, carpeta)\n",
    "    if os.path.isdir(ruta):\n",
    "        ruta_conjunto_de_datos = os.path.join(ruta, 'conjunto_de_datos')\n",
    "        if os.path.isdir(ruta_conjunto_de_datos):\n",
    "            archivos_encontrados = buscar_archivos(ruta_conjunto_de_datos, nombres_archivos)            \n",
    "            for nombre_archivo, rutas_archivos in archivos_encontrados.items():\n",
    "                for ruta_archivo in rutas_archivos:\n",
    "                    gdf = gpd.read_file(ruta_archivo)\n",
    "                    gdf = gdf.to_crs(epsg=6372)\n",
    "                    gdf['Cve_Ent'] = cve_ent\n",
    "                    gdf['Cve_MunC'] = cvegeo\n",
    "                    campos_a_conservar = [campo for campo in ['geografico', 'elevacion', 'nombre'] if campo in gdf.columns]\n",
    "                    gdf = gdf[['geometry', 'Cve_Ent', 'Cve_MunC'] + campos_a_conservar]\n",
    "                    gdfs_dict[nombre_archivo].append(gdf)\n",
    "                    \n",
    "for nombre_archivo, gdfs in gdfs_dict.items():\n",
    "    if gdfs:\n",
    "        gdf_unido = gpd.GeoDataFrame(pd.concat(gdfs, ignore_index=True))\n",
    "        if gdf_unido.crs != 'EPSG:6372':\n",
    "            gdf_unido = gdf_unido.to_crs(epsg=6372)        \n",
    "        gdf_cortado = gpd.overlay(gdf_unido, zona_corte, how='intersection')        \n",
    "        if not gdf_cortado.empty:\n",
    "            nombre_archivo_mayus = nombre_archivo.upper()\n",
    "            nombre_salida = f\"C{cvegeo}_{os.path.splitext(nombre_archivo_mayus)[0]}_INEGI_SERIE_III.shp\"\n",
    "            ruta_salida = os.path.join(carpeta_zip, nombre_salida)\n",
    "            gdf_cortado.to_file(ruta_salida)\n",
    "            print(f\"Archivo unido y cortado guardado en: {ruta_salida}\")\n",
    "        else:\n",
    "            print(f\"El GeoDataFrame resultante de {nombre_archivo} está vacío después del corte.\")\n",
    "print(\"Proceso de unión y corte completo.\")"
   ]
  },
  {
   "cell_type": "code",
   "execution_count": 7,
   "id": "dc425df9-713c-4176-b2ab-5bf9df3d810c",
   "metadata": {},
   "outputs": [
    {
     "name": "stdout",
     "output_type": "stream",
     "text": [
      "Cargado\n",
      "Cargado\n",
      "Cargado\n",
      "Cargado\n",
      "Cargado\n",
      "Cargado\n",
      "Cargado\n",
      "Carga completa\n"
     ]
    }
   ],
   "source": [
    "LIMITE_ESTATAL = gpd.read_file(\"//Mycloudex2ultra/compartido/Base_Datos/INEGI/MGN/MGN_2023/mg_2023_integrado/conjunto_de_datos/00ent.shp\").to_crs(epsg=6372)\n",
    "print (\"Cargado\")\n",
    "LOCALIDADES = gpd.read_file(\"//Mycloudex2ultra/compartido/Base_Datos/INEGI/MGN/MGN_2023/30_veracruzignaciodelallave/conjunto_de_datos/30l.shp\").to_crs(epsg=6372)#CAMBIAR DE ACUERDO AL ESTADO\n",
    "print (\"Cargado\")\n",
    "LOCALIDADES_RURALES_PUNTOS = gpd.read_file(\"C:/SCINCE 2020/SCINCE VERACRUZ 2020/30_VER/cartografia/loc_rur.shp\").to_crs(epsg=6372)#CAMBIAR DE ACUERDO AL ESTADO\n",
    "print (\"Cargado\")\n",
    "MANZANAS = gpd.read_file(\"//Mycloudex2ultra/compartido/Base_Datos/INEGI/MGN/MGN_2023/30_veracruzignaciodelallave/conjunto_de_datos/30m.shp\").to_crs(epsg=6372)#CAMBIAR DE ACUERDO AL ESTADO\n",
    "print (\"Cargado\")\n",
    "print (\"Carga completa\")"
   ]
  },
  {
   "cell_type": "code",
   "execution_count": 16,
   "id": "7f397357-c53c-4e16-8315-9ebefe40b686",
   "metadata": {},
   "outputs": [],
   "source": [
    "# Corte y guardado para LIMITE_MUNICIPAL\n",
    "MUNICIPAL = gpd.overlay(LIMITE_MUNICIPAL, zona_corte, how='intersection')\n",
    "if MUNICIPAL.empty:\n",
    "    warnings.warn(\"Advertencia: El resultado de la intersección LIMITE_MUNICIPAL está vacío. No se generará un archivo de salida.\")\n",
    "nombre_archivo_MUNICIPAL = \"MUNICIPAL.shp\"\n",
    "ruta_salida = f\"C{cvegeo}_{os.path.splitext(nombre_archivo_MUNICIPAL)[0]}_INEGI_MGN_2023.shp\"\n",
    "if not MUNICIPAL.empty:\n",
    "    MUNICIPAL.to_file(ruta_salida)\n",
    "\n",
    "# Corte y guardado para LIMITE_ESTATAL\n",
    "LIMITE_ESTATAL = gpd.overlay(LIMITE_ESTATAL, zona_corte, how='intersection')\n",
    "if LIMITE_ESTATAL.empty:\n",
    "    warnings.warn(\"Advertencia: El resultado de la intersección LIMITE_ESTATAL está vacío. No se generará un archivo de salida.\")\n",
    "nombre_archivo_ESTATAL = \"LIMITE_ESTATAL.shp\"\n",
    "ruta_salida = f\"C{cvegeo}_{os.path.splitext(nombre_archivo_ESTATAL)[0]}_INEGI_MGN_2023.shp\"\n",
    "if not LIMITE_ESTATAL.empty:\n",
    "    LIMITE_ESTATAL.to_file(ruta_salida)\n",
    "\n",
    "# Corte y guardado para LOCALIDADES\n",
    "LOCALIDADES = gpd.overlay(LOCALIDADES, zona_corte, how='intersection')\n",
    "if LOCALIDADES.empty:\n",
    "    warnings.warn(\"Advertencia: El resultado de la intersección LOCALIDADES está vacío. No se generará un archivo de salida.\")\n",
    "nombre_archivo_LOCALIDADES = \"LOCALIDADES.shp\"\n",
    "ruta_salida = f\"C{cvegeo}_{os.path.splitext(nombre_archivo_LOCALIDADES)[0]}_INEGI_MGN_2023.shp\"\n",
    "if not LOCALIDADES.empty:\n",
    "    LOCALIDADES.to_file(ruta_salida)\n",
    "    \n",
    "# Corte y guardado para LOCALIDADES_RURALES_PUNTOS\n",
    "LOCALIDADES_RURALES_PUNTOS = gpd.overlay(LOCALIDADES_RURALES_PUNTOS, zona_corte, how='intersection')\n",
    "if LOCALIDADES_RURALES_PUNTOS.empty:\n",
    "    warnings.warn(\"Advertencia: El resultado de la intersección LOCALIDADES_RURALES_PUNTOS está vacío. No se generará un archivo de salida.\")\n",
    "nombre_archivo_LOCALIDADES_RURALES_PUNTOS = \"LOCALIDADES_RURALES_PUNTOS.shp\"\n",
    "ruta_salida = f\"C{cvegeo}_{os.path.splitext(nombre_archivo_LOCALIDADES_RURALES_PUNTOS)[0]}_INEGI_MGN_2023.shp\"\n",
    "if not LOCALIDADES_RURALES_PUNTOS.empty:\n",
    "    LOCALIDADES_RURALES_PUNTOS.to_file(ruta_salida)\n",
    "\n",
    "# Corte y guardado para MANZANAS\n",
    "MANZANAS = gpd.overlay(MANZANAS, zona_corte, how='intersection')\n",
    "if MANZANAS.empty:\n",
    "    warnings.warn(\"Advertencia: El resultado de la intersección MANZANAS está vacío. No se generará un archivo de salida.\")\n",
    "nombre_archivo_MANZANAS = \"MANZANAS.shp\"\n",
    "ruta_salida = f\"C{cvegeo}_{os.path.splitext(nombre_archivo_MANZANAS)[0]}_INEGI_MGN_2023.shp\"\n",
    "if not MANZANAS.empty:\n",
    "    MANZANAS.to_file(ruta_salida)"
   ]
  },
  {
   "cell_type": "code",
   "execution_count": null,
   "id": "ddacfc88-8ab9-4dd8-9bc6-9f3b515ef79e",
   "metadata": {},
   "outputs": [],
   "source": [
    "ANP = gpd.read_file(\"C:/Users/andim/Documents/MAPA BASE/CAPAS BASE/SHAPE_ANPS_FEB2024/226_ANP_ITRF08_27022024.shp\").to_crs(epsg=6372)\n",
    "print (\"Cargado\")\n",
    "VEGETACION = gpd.read_file(\"C:/Users/andim/Documents/MAPA BASE/CAPAS BASE/VEGETACION SERIE 7 CAPA PARA MAPAS BASE/VEGETACION SERIE 7 CAPA PARA MAPAS BASE/capa_vege_para_bases_inegi_s7_V2.shp\").to_crs(epsg=6372)\n",
    "print (\"Cargado\")\n",
    "CALLES = gpd.read_file(\"C:/SCINCE 2020/SCINCE 2020 CDMX/09_CDMX/cartografia/eje_vial.shp\").to_crs(epsg=6372)#CAMBIAR\n",
    "print (\"Cargado\")\n",
    "print (\"Carga completa\")"
   ]
  },
  {
   "cell_type": "code",
   "execution_count": 8,
   "id": "d1e82db5-2530-4095-97a0-f4a510434b59",
   "metadata": {},
   "outputs": [
    {
     "name": "stderr",
     "output_type": "stream",
     "text": [
      "C:\\Users\\ideapad Blue TDG\\AppData\\Local\\Temp\\ipykernel_21412\\2813940015.py:16: UserWarning: Advertencia: El resultado de la intersección ANP está vacío. No se generará un archivo de salida.\n",
      "  warnings.warn(\"Advertencia: El resultado de la intersección ANP está vacío. No se generará un archivo de salida.\")\n",
      "C:\\Users\\ideapad Blue TDG\\anaconda3\\envs\\geo_env\\lib\\site-packages\\geopandas\\io\\file.py:572: UserWarning: You are attempting to write an empty DataFrame to file. For some drivers, this operation may fail.\n",
      "  _to_file_fiona(df, filename, driver, schema, crs, mode, **kwargs)\n"
     ]
    },
    {
     "name": "stdout",
     "output_type": "stream",
     "text": [
      "Intersecciones completadas y archivos guardados.\n"
     ]
    }
   ],
   "source": [
    "# Corte y guardado para ANP\n",
    "ANP = gpd.overlay(ANP, zona_corte, how='intersection')\n",
    "if ANP.empty:\n",
    "    warnings.warn(\"Advertencia: El resultado de la intersección ANP está vacío. No se generará un archivo de salida.\")\n",
    "else:\n",
    "    ANP = ANP[['NOMBRE']]\n",
    "    ANP['Cve_Ent'] = cve_ent\n",
    "    ANP['Cve_MunC'] = cvegeo\n",
    "    nombre_archivo_ANP = \"ANP.shp\"\n",
    "    ruta_salida = f\"C{cvegeo}_{os.path.splitext(nombre_archivo_ANP)[0]}_CONAP_2024.shp\"\n",
    "    ANP.to_file(ruta_salida)\n",
    "\n",
    "# Corte y guardado para VEGETACION\n",
    "VEGETACION = gpd.overlay(VEGETACION, zona_corte, how='intersection')\n",
    "if VEGETACION.empty:\n",
    "    warnings.warn(\"Advertencia: El resultado de la intersección VEGETACION está vacío. No se generará un archivo de salida.\")\n",
    "else:\n",
    "    VEGETACION = VEGETACION[['DESCRIPCIO']]\n",
    "    VEGETACION['Cve_Ent'] = cve_ent\n",
    "    VEGETACION['Cve_MunC'] = cvegeo\n",
    "    nombre_archivo_VEGETACION = \"VEGETACION.shp\"\n",
    "    ruta_salida = f\"C{cvegeo}_{os.path.splitext(nombre_archivo_VEGETACION)[0]}_INEGI_MGN_2023.shp\"\n",
    "    ANP.to_file(ruta_salida)\n",
    "\n",
    "print(\"Intersecciones completadas y archivos guardados.\")\n",
    "\n",
    "# Corte y guardado para CALLES\n",
    "CALLES = gpd.overlay(CALLES, zona_corte, how='intersection')\n",
    "if CALLES.empty:\n",
    "    warnings.warn(\"Advertencia: El resultado de la intersección CALLES está vacío. No se generará un archivo de salida.\")\n",
    "else:\n",
    "    CALLES['Cve_Ent'] = cve_ent\n",
    "    CALLES['Cve_MunC'] = cvegeo\n",
    "    nombre_archivo_CALLES = \"RNC.shp\"\n",
    "    ruta_salida = f\"C{cvegeo}_{os.path.splitext(nombre_archivo_CALLES)[0]}_INEGI_SCINCE_2020.shp\"\n",
    "    CALLES.to_file(ruta_salida)"
   ]
  },
  {
   "cell_type": "code",
   "execution_count": null,
   "id": "e5abbc85-4da3-4a0f-9f3c-eb6ac4515b2b",
   "metadata": {},
   "outputs": [],
   "source": [
    "RNC = gpd.read_file(\"//Mycloudex2ultra/compartido/Base_Datos/RED NACIONAL DE CAMINOS/RNC_2023/conjunto_de_datos/red_vial.shp\").to_crs(epsg=6372)\n",
    "print (\"Cargado\")\n",
    "print (\"Carga completa\")"
   ]
  },
  {
   "cell_type": "code",
   "execution_count": null,
   "id": "117b983e-9e57-4b15-9a21-44de3db21992",
   "metadata": {},
   "outputs": [],
   "source": [
    "RNC = gpd.read_file(\"//Mycloudex2ultra/compartido/Base_Datos/RED NACIONAL DE CAMINOS/RNC_2023/conjunto_de_datos/red_vial.shp\").to_crs(epsg=6372)\n",
    "print (\"Cargado\")\n",
    "\n",
    "# Corte y guardado para RNC\n",
    "RNC = gpd.overlay(RNC, zona_corte, how='intersection')\n",
    "if RNC.empty:\n",
    "    warnings.warn(\"Advertencia: El resultado de la intersección RNC está vacío. No se generará un archivo de salida.\")\n",
    "else:\n",
    "    RNC = RNC[['TIPO_VIAL','NOMBRE', 'CODIGO', 'ADMINISTRA']]\n",
    "    RNC['Cve_Ent'] = cve_ent\n",
    "    RNC['Cve_MunC'] = cvegeo\n",
    "    nombre_archivo_RNC = \"RNC.shp\"\n",
    "    ruta_salida = f\"C{cvegeo}_{os.path.splitext(nombre_archivo_RNC)[0]}_INEGI_RNC_2024.shp\"\n",
    "    RNC.to_file(ruta_salida)"
   ]
  },
  {
   "cell_type": "code",
   "execution_count": 14,
   "id": "8a9c108a-30b2-497c-b03f-9d4fa3394aa8",
   "metadata": {},
   "outputs": [
    {
     "data": {
      "text/html": [
       "<div>\n",
       "<style scoped>\n",
       "    .dataframe tbody tr th:only-of-type {\n",
       "        vertical-align: middle;\n",
       "    }\n",
       "\n",
       "    .dataframe tbody tr th {\n",
       "        vertical-align: top;\n",
       "    }\n",
       "\n",
       "    .dataframe thead th {\n",
       "        text-align: right;\n",
       "    }\n",
       "</style>\n",
       "<table border=\"1\" class=\"dataframe\">\n",
       "  <thead>\n",
       "    <tr style=\"text-align: right;\">\n",
       "      <th></th>\n",
       "      <th>TIPO_VIAL</th>\n",
       "      <th>NOMBRE</th>\n",
       "      <th>CODIGO</th>\n",
       "      <th>ADMINISTRA</th>\n",
       "      <th>Cve_Ent</th>\n",
       "      <th>Cve_MunC</th>\n",
       "    </tr>\n",
       "  </thead>\n",
       "  <tbody>\n",
       "    <tr>\n",
       "      <th>0</th>\n",
       "      <td>Viaducto</td>\n",
       "      <td>Río de la Piedad</td>\n",
       "      <td>N/A</td>\n",
       "      <td>N/A</td>\n",
       "      <td>09</td>\n",
       "      <td>09015</td>\n",
       "    </tr>\n",
       "    <tr>\n",
       "      <th>1</th>\n",
       "      <td>Avenida</td>\n",
       "      <td>Insurgentes Sur</td>\n",
       "      <td>N/A</td>\n",
       "      <td>N/A</td>\n",
       "      <td>09</td>\n",
       "      <td>09015</td>\n",
       "    </tr>\n",
       "    <tr>\n",
       "      <th>2</th>\n",
       "      <td>Viaducto</td>\n",
       "      <td>Río de la Piedad</td>\n",
       "      <td>N/A</td>\n",
       "      <td>N/A</td>\n",
       "      <td>09</td>\n",
       "      <td>09015</td>\n",
       "    </tr>\n",
       "    <tr>\n",
       "      <th>3</th>\n",
       "      <td>Calle</td>\n",
       "      <td>República de Brasil</td>\n",
       "      <td>N/A</td>\n",
       "      <td>N/A</td>\n",
       "      <td>09</td>\n",
       "      <td>09015</td>\n",
       "    </tr>\n",
       "    <tr>\n",
       "      <th>4</th>\n",
       "      <td>Circuito</td>\n",
       "      <td>Interior Revolución</td>\n",
       "      <td>N/A</td>\n",
       "      <td>N/A</td>\n",
       "      <td>09</td>\n",
       "      <td>09015</td>\n",
       "    </tr>\n",
       "    <tr>\n",
       "      <th>...</th>\n",
       "      <td>...</td>\n",
       "      <td>...</td>\n",
       "      <td>...</td>\n",
       "      <td>...</td>\n",
       "      <td>...</td>\n",
       "      <td>...</td>\n",
       "    </tr>\n",
       "    <tr>\n",
       "      <th>2032</th>\n",
       "      <td>Enlace</td>\n",
       "      <td>N/A</td>\n",
       "      <td>N/A</td>\n",
       "      <td>N/A</td>\n",
       "      <td>09</td>\n",
       "      <td>09015</td>\n",
       "    </tr>\n",
       "    <tr>\n",
       "      <th>2033</th>\n",
       "      <td>Circuito</td>\n",
       "      <td>Interior José Vasconcelos</td>\n",
       "      <td>N/A</td>\n",
       "      <td>N/A</td>\n",
       "      <td>09</td>\n",
       "      <td>09015</td>\n",
       "    </tr>\n",
       "    <tr>\n",
       "      <th>2034</th>\n",
       "      <td>Circuito</td>\n",
       "      <td>Interior José Vasconcelos</td>\n",
       "      <td>N/A</td>\n",
       "      <td>N/A</td>\n",
       "      <td>09</td>\n",
       "      <td>09015</td>\n",
       "    </tr>\n",
       "    <tr>\n",
       "      <th>2035</th>\n",
       "      <td>Circuito</td>\n",
       "      <td>Interior Melchor Ocampo</td>\n",
       "      <td>N/A</td>\n",
       "      <td>N/A</td>\n",
       "      <td>09</td>\n",
       "      <td>09015</td>\n",
       "    </tr>\n",
       "    <tr>\n",
       "      <th>2036</th>\n",
       "      <td>Circuito</td>\n",
       "      <td>Interior Melchor Ocampo</td>\n",
       "      <td>N/A</td>\n",
       "      <td>N/A</td>\n",
       "      <td>09</td>\n",
       "      <td>09015</td>\n",
       "    </tr>\n",
       "  </tbody>\n",
       "</table>\n",
       "<p>2037 rows × 6 columns</p>\n",
       "</div>"
      ],
      "text/plain": [
       "     TIPO_VIAL                     NOMBRE CODIGO ADMINISTRA Cve_Ent Cve_MunC\n",
       "0     Viaducto           Río de la Piedad    N/A        N/A      09    09015\n",
       "1      Avenida            Insurgentes Sur    N/A        N/A      09    09015\n",
       "2     Viaducto           Río de la Piedad    N/A        N/A      09    09015\n",
       "3        Calle        República de Brasil    N/A        N/A      09    09015\n",
       "4     Circuito        Interior Revolución    N/A        N/A      09    09015\n",
       "...        ...                        ...    ...        ...     ...      ...\n",
       "2032    Enlace                        N/A    N/A        N/A      09    09015\n",
       "2033  Circuito  Interior José Vasconcelos    N/A        N/A      09    09015\n",
       "2034  Circuito  Interior José Vasconcelos    N/A        N/A      09    09015\n",
       "2035  Circuito    Interior Melchor Ocampo    N/A        N/A      09    09015\n",
       "2036  Circuito    Interior Melchor Ocampo    N/A        N/A      09    09015\n",
       "\n",
       "[2037 rows x 6 columns]"
      ]
     },
     "execution_count": 14,
     "metadata": {},
     "output_type": "execute_result"
    }
   ],
   "source": [
    "RNC"
   ]
  },
  {
   "cell_type": "code",
   "execution_count": null,
   "id": "2f13073d-f5ca-4166-83e7-343cc8823e36",
   "metadata": {},
   "outputs": [],
   "source": []
  }
 ],
 "metadata": {
  "kernelspec": {
   "display_name": "Python 3 (ipykernel)",
   "language": "python",
   "name": "python3"
  },
  "language_info": {
   "codemirror_mode": {
    "name": "ipython",
    "version": 3
   },
   "file_extension": ".py",
   "mimetype": "text/x-python",
   "name": "python",
   "nbconvert_exporter": "python",
   "pygments_lexer": "ipython3",
   "version": "3.8.20"
  }
 },
 "nbformat": 4,
 "nbformat_minor": 5
}
