{
 "cells": [
  {
   "cell_type": "code",
   "execution_count": 1,
   "id": "07110907-09ad-43ae-829c-ca5cdaf94c46",
   "metadata": {},
   "outputs": [],
   "source": [
    "import geopandas as gpd\n",
    "from shapely.geometry import box\n",
    "from osgeo import gdal\n",
    "from copy import deepcopy\n",
    "import os, math\n",
    "import numpy as np\n",
    "import requests\n",
    "import pandas as pd\n",
    "from urllib.parse import urlparse\n",
    "from selenium import webdriver\n",
    "from selenium.webdriver.chrome.service import Service\n",
    "from selenium.webdriver.common.by import By\n",
    "from selenium.webdriver.support.ui import WebDriverWait\n",
    "from selenium.webdriver.support import expected_conditions as EC\n",
    "from selenium.webdriver.common.keys import Keys\n",
    "import time\n",
    "import zipfile\n",
    "import warnings"
   ]
  },
  {
   "cell_type": "code",
   "execution_count": 2,
   "id": "a4586822-c2c7-498d-a9eb-976c05a1d1a4",
   "metadata": {},
   "outputs": [],
   "source": [
    "os.chdir(r\"C:\\Users\\brenp\\Downloads\")"
   ]
  },
  {
   "cell_type": "code",
   "execution_count": 3,
   "id": "3c2329ab-966e-41a4-9fff-09abee916a83",
   "metadata": {},
   "outputs": [],
   "source": [
    "# Definir ruta y descargar el archivo ZIP\n",
    "url = \"https://storage.googleapis.com/chrome-for-testing-public/134.0.6998.88/win64/chromedriver-win64.zip\"\n",
    "zip_path = \"chromedriver-win64.zip\"\n",
    "extract_path = \"chromedriver-win64\"\n",
    "\n",
    "response = requests.get(url)\n",
    "with open(zip_path, \"wb\") as f:\n",
    "    f.write(response.content)\n",
    "    \n",
    "if zipfile.is_zipfile(zip_path):\n",
    "    with zipfile.ZipFile(zip_path, \"r\") as zip_ref:\n",
    "        zip_ref.extractall(extract_path)\n",
    "    os.remove(zip_path) "
   ]
  },
  {
   "cell_type": "code",
   "execution_count": 4,
   "id": "ea1bcade-8a61-4b27-9fc7-149c049a7204",
   "metadata": {},
   "outputs": [],
   "source": [
    "# Ruta al WebDriver extraído\n",
    "webdriver_path = r'chromedriver-win64\\chromedriver-win64\\chromedriver.exe'\n",
    "options = webdriver.ChromeOptions()\n",
    "options.add_argument('headless=False')\n",
    "options.add_argument('--disable-gpu')\n",
    "service = Service(webdriver_path)\n",
    "driver = webdriver.Chrome(service=service, options=options)"
   ]
  },
  {
   "cell_type": "code",
   "execution_count": 5,
   "id": "c98f5248-4433-4602-9180-e0cedb3d1117",
   "metadata": {
    "scrolled": true
   },
   "outputs": [
    {
     "name": "stdout",
     "output_type": "stream",
     "text": [
      "Carga completa\n"
     ]
    }
   ],
   "source": [
    "LIMITE_MUNICIPAL = gpd.read_file(\"https://raw.githubusercontent.com/andimcfl/DESGARGAS_INEGI/main/scrips/INSUMOS%20BASE/00mun.geojson\")\n",
    "print(\"Carga completa\")\n",
    "\n",
    "def buscar_municipio(nom_ent, nomgeo):\n",
    "    resultado = LIMITE_MUNICIPAL[(LIMITE_MUNICIPAL['NOM_ENT'] == nom_ent) & (LIMITE_MUNICIPAL['NOMGEO'] == nomgeo)]    \n",
    "    if not resultado.empty:\n",
    "        resultado = resultado[['CVE_ENT', 'NOM_ENT', 'NOMGEO', 'CVEGEO']]\n",
    "        print(f\"Municipio encontrado:\\n{resultado}\")\n",
    "    else:\n",
    "        print(f\"No se encontró el municipio con ESTADO '{nom_ent}' y MUNICIPIO '{nomgeo}'.\")\n",
    "    \n",
    "    return resultado"
   ]
  },
  {
   "cell_type": "code",
   "execution_count": 6,
   "id": "85e6cde1-e660-4d02-8663-3cfd043351ad",
   "metadata": {},
   "outputs": [
    {
     "name": "stdout",
     "output_type": "stream",
     "text": [
      "Municipio encontrado:\n",
      "    CVE_ENT           NOM_ENT   NOMGEO CVEGEO\n",
      "282      09  Ciudad de México  Tlalpan  09012\n"
     ]
    }
   ],
   "source": [
    "nom_ent = 'Ciudad de México'\n",
    "nomgeo = 'Tlalpan'\n",
    "resultado = buscar_municipio(nom_ent, nomgeo)"
   ]
  },
  {
   "cell_type": "code",
   "execution_count": 7,
   "id": "fdbe8dd6-8f8a-45c4-bc1f-225115ea9666",
   "metadata": {},
   "outputs": [
    {
     "name": "stdout",
     "output_type": "stream",
     "text": [
      "    CVEGEO CVE_ENT CVE_MUN   NOMGEO           NOM_ENT  \\\n",
      "282  09012      09     012  Tlalpan  Ciudad de México   \n",
      "\n",
      "                                              geometry  \n",
      "282  MULTIPOLYGON (((2791349.819 815583.059, 279134...  \n"
     ]
    }
   ],
   "source": [
    "cvegeo = '09012'\n",
    "cve_ent = '09'\n",
    "municipio = LIMITE_MUNICIPAL[LIMITE_MUNICIPAL['CVEGEO'] == cvegeo].to_crs(epsg=6372)\n",
    "bounds = municipio.total_bounds\n",
    "bounding_box = box(bounds[0], bounds[1], bounds[2], bounds[3])\n",
    "buffer = bounding_box.buffer(2000) #área del buffer par recortar\n",
    "#zona_corte = gpd.GeoDataFrame(geometry=[buffer], crs=LIMITE_MUNICIPAL.crs).to_crs(epsg=6372) \n",
    "#zona_corte = gpd.GeoDataFrame(geometry=[bounding_box], crs=LIMITE_MUNICIPAL.crs).to_crs(epsg=6372) \n",
    "zona_corte = municipio\n",
    "print(zona_corte)"
   ]
  },
  {
   "cell_type": "code",
   "execution_count": 8,
   "id": "7713fa62-33b6-4dbc-ba3b-12a999d1049d",
   "metadata": {},
   "outputs": [],
   "source": [
    "zona_corte.to_file(f\"C{cvegeo}_ZONACORTE_EP_2025.geojson\")"
   ]
  },
  {
   "cell_type": "code",
   "execution_count": 9,
   "id": "661d51aa-abbd-4d81-a5fa-97708fa98494",
   "metadata": {},
   "outputs": [
    {
     "name": "stdout",
     "output_type": "stream",
     "text": [
      "Carga completa\n",
      "['E14A39' 'E14A49']\n"
     ]
    }
   ],
   "source": [
    "cartas = gpd.read_file(\"https://raw.githubusercontent.com/andimcfl/DESGARGAS_INEGI/main/scrips/INSUMOS%20BASE/div50k_lcc.geojson\").to_crs(epsg=6372)\n",
    "print(\"Carga completa\")\n",
    "claves = cartas['CLAVE50K'].unique()\n",
    "claves_en_zona_corte = gpd.sjoin(cartas, zona_corte, how='inner', predicate='intersects')\n",
    "claves_cartas_topograficas = claves_en_zona_corte['CLAVE50K'].unique()\n",
    "print(claves_cartas_topograficas)"
   ]
  },
  {
   "cell_type": "code",
   "execution_count": 10,
   "id": "5365ed9f-6760-42ce-ab8d-adc38bf91a8c",
   "metadata": {},
   "outputs": [],
   "source": [
    "url = 'https://www.inegi.org.mx/programas/topografia/50000/#descargas'\n",
    "driver.get(url)"
   ]
  },
  {
   "cell_type": "code",
   "execution_count": 12,
   "id": "03812429-77ae-48af-b7b7-92ab6896725b",
   "metadata": {},
   "outputs": [
    {
     "name": "stdout",
     "output_type": "stream",
     "text": [
      "Clave: E14A39 - Serie: Sin Serie - Enlace de descarga: https://www.inegi.org.mx/contenidos/productos/prod_serv/contenidos/espanol/bvinegi/productos/geografia/imagen_cartografica/1_50_000/889463854135_s.zip\n",
      "Clave: E14A39 - Serie: 2019 - Enlace de descarga: https://www.inegi.org.mx/contenidos/productos/prod_serv/contenidos/espanol/bvinegi/productos/geografia/imagen_cartografica/1_50_000/889463833406_s.zip\n",
      "Clave: E14A39 - Serie: III - Enlace de descarga: https://www.inegi.org.mx/contenidos/productos/prod_serv/contenidos/espanol/bvinegi/productos/geografia/imagen_cartografica/1_50_000/702825266721_s.zip\n",
      "Clave: E14A39 - Serie: II - Enlace de descarga: https://www.inegi.org.mx/contenidos/productos/prod_serv/contenidos/espanol/bvinegi/productos/geografia/imagen_cartografica/1_50_000/702825003701_s.zip\n",
      "Clave: E14A49 - Serie: Sin Serie - Enlace de descarga: https://www.inegi.org.mx/contenidos/productos/prod_serv/contenidos/espanol/bvinegi/productos/geografia/imagen_cartografica/1_50_000/889463854142_s.zip\n",
      "Clave: E14A49 - Serie: 2019 - Enlace de descarga: https://www.inegi.org.mx/contenidos/productos/prod_serv/contenidos/espanol/bvinegi/productos/geografia/imagen_cartografica/1_50_000/889463832362_s.zip\n",
      "Clave: E14A49 - Serie: III - Enlace de descarga: https://www.inegi.org.mx/contenidos/productos/prod_serv/contenidos/espanol/bvinegi/productos/geografia/imagen_cartografica/1_50_000/702825003032_s.zip\n",
      "Clave: E14A49 - Serie: II - Enlace de descarga: https://www.inegi.org.mx/contenidos/productos/prod_serv/contenidos/espanol/bvinegi/productos/geografia/imagen_cartografica/1_50_000/702825003704_s.zip\n"
     ]
    }
   ],
   "source": [
    "wait = WebDriverWait(driver, 100)\n",
    "\n",
    "wait.until(EC.presence_of_element_located((By.CSS_SELECTOR, 'input#bcm_resultBusqueda3_input_search')))\n",
    "\n",
    "clave_enlace_list = []\n",
    "\n",
    "def buscar_clave(clave):\n",
    "    search_box = driver.find_element(By.CSS_SELECTOR, 'input#bcm_resultBusqueda3_input_search')\n",
    "    search_button = driver.find_element(By.CSS_SELECTOR, 'button#bcm_buscar_btn_resultBusqueda3')\n",
    "    driver.execute_script(\"arguments[0].scrollIntoView();\", search_box)\n",
    "    driver.execute_script(\"arguments[0].scrollIntoView();\", search_button)\n",
    "    search_box.clear()\n",
    "    search_box.send_keys(clave)\n",
    "    WebDriverWait(driver, 100).until(EC.element_to_be_clickable((By.CSS_SELECTOR, 'button#bcm_buscar_btn_resultBusqueda3')))\n",
    "    driver.execute_script(\"arguments[0].click();\", search_button)\n",
    "    WebDriverWait(driver, 100).until(EC.presence_of_element_located((By.CSS_SELECTOR, 'tbody')))\n",
    "\n",
    "def obtener_Serie (row):\n",
    "    Serie = None\n",
    "    for i in [4]:\n",
    "        try:\n",
    "            Serie_element = row.find_element(By.CSS_SELECTOR, f'td:nth-child({i}) .tablesaw-cell-content')\n",
    "            Serie = Serie_element.text.strip()\n",
    "            if Serie: \n",
    "                break\n",
    "        except Exception:\n",
    "            continue \n",
    "    return Serie if Serie else \"Sin Serie\"\n",
    "\n",
    "def procesar_filas(clave_buscar):\n",
    "    rows = driver.find_elements(By.CSS_SELECTOR, 'tbody tr')\n",
    "    for row in rows:\n",
    "        try:\n",
    "            clave_element = row.find_element(By.CSS_SELECTOR, 'td:nth-child(1) .tablesaw-cell-content')\n",
    "            clave = clave_element.text.strip()\n",
    "            Serie = obtener_Serie(row) \n",
    "            enlace_descarga = None\n",
    "            for i in [8, 9, 10]:\n",
    "                try:\n",
    "                    tipo_archivo_element = row.find_element(By.CSS_SELECTOR, f'td:nth-child({i}) img[src=\"/img/ico/ico_shp.png\"]')\n",
    "                    if tipo_archivo_element:\n",
    "                        enlace_element = row.find_element(By.CSS_SELECTOR, f'td:nth-child({i}) a[href$=\".zip\"]')\n",
    "                        enlace_descarga = enlace_element.get_attribute('href')\n",
    "                        break\n",
    "                except Exception:\n",
    "                    continue\n",
    "            if enlace_descarga:\n",
    "                clave_enlace_list.append((clave, Serie, enlace_descarga))\n",
    "        except Exception:\n",
    "            continue\n",
    "\n",
    "for clave_buscar in claves_cartas_topograficas:\n",
    "    buscar_clave(clave_buscar)\n",
    "    time.sleep(15)\n",
    "    last_height = driver.execute_script(\"return document.body.scrollHeight\")\n",
    "    while True:\n",
    "        procesar_filas(clave_buscar)\n",
    "        driver.execute_script(\"window.scrollTo(0, document.body.scrollHeight);\")\n",
    "        time.sleep(20)\n",
    "        new_height = driver.execute_script(\"return document.body.scrollHeight\")\n",
    "        if new_height == last_height:\n",
    "            break\n",
    "        last_height = new_height\n",
    "\n",
    "if clave_enlace_list:\n",
    "    for clave, Serie, enlace in clave_enlace_list:\n",
    "        print(f\"Clave: {clave} - Serie: {Serie} - Enlace de descarga: {enlace}\")\n",
    "else:\n",
    "    print(\"No se encontraron resultados para las claves buscadas\")"
   ]
  },
  {
   "cell_type": "code",
   "execution_count": 13,
   "id": "1e1ce4f5-7e83-46f0-bae7-39a4245c23de",
   "metadata": {},
   "outputs": [],
   "source": [
    "driver.quit()"
   ]
  },
  {
   "cell_type": "code",
   "execution_count": 16,
   "id": "6140fc05-7595-4418-8156-35e8be4fb546",
   "metadata": {},
   "outputs": [
    {
     "name": "stdout",
     "output_type": "stream",
     "text": [
      "Descargado: CARTAS TOPOGRAFICAS\\E14A39_III.zip\n",
      "Descargado: CARTAS TOPOGRAFICAS\\E14A49_III.zip\n",
      "Descarga completa.\n"
     ]
    }
   ],
   "source": [
    "def descargar_archivo(url, carpeta_destino, nombre_archivo):\n",
    "    respuesta = requests.get(url, stream=True)\n",
    "    ruta_archivo = os.path.join(carpeta_destino, nombre_archivo)\n",
    "    \n",
    "    with open(ruta_archivo, 'wb') as archivo:\n",
    "        for chunk in respuesta.iter_content(chunk_size=32768):\n",
    "            if chunk:\n",
    "                archivo.write(chunk)\n",
    "    \n",
    "    print(f\"Descargado: {ruta_archivo}\")\n",
    "\n",
    "Serie_deseada = \"III\"\n",
    "carpeta_descargas = \"CARTAS TOPOGRAFICAS\"\n",
    "os.makedirs(carpeta_descargas, exist_ok=True)\n",
    "\n",
    "for clave, Serie, enlace in clave_enlace_list:\n",
    "    if Serie == Serie_deseada:\n",
    "        nombre_archivo = f\"{clave}_{Serie}.zip\"\n",
    "        descargar_archivo(enlace, carpeta_descargas, nombre_archivo)\n",
    "\n",
    "print(\"Descarga completa.\")"
   ]
  },
  {
   "cell_type": "code",
   "execution_count": 17,
   "id": "2e85a045-f704-41b3-b51f-e3aaab016e56",
   "metadata": {},
   "outputs": [
    {
     "name": "stdout",
     "output_type": "stream",
     "text": [
      "Descomprimido: CARTAS TOPOGRAFICAS\\E14A39_III.zip en CARTAS TOPOGRAFICAS\\E14A39_III\n",
      "Descomprimido: CARTAS TOPOGRAFICAS\\E14A49_III.zip en CARTAS TOPOGRAFICAS\\E14A49_III\n",
      "Descompresión completa.\n"
     ]
    }
   ],
   "source": [
    "carpeta_zip = 'CARTAS TOPOGRAFICAS'\n",
    "os.makedirs(carpeta_zip, exist_ok=True)\n",
    "\n",
    "for archivo_zip in os.listdir(carpeta_zip):\n",
    "    if archivo_zip.endswith('.zip'):\n",
    "        ruta_zip = os.path.join(carpeta_zip, archivo_zip)\n",
    "        nombre = os.path.splitext(archivo_zip)[0]\n",
    "        carpeta = os.path.join(carpeta_zip, nombre)\n",
    "        os.makedirs(carpeta, exist_ok=True)\n",
    "        with zipfile.ZipFile(ruta_zip, 'r') as archivo_zip_obj:\n",
    "            archivo_zip_obj.extractall(carpeta)\n",
    "            print(f\"Descomprimido: {ruta_zip} en {carpeta}\")\n",
    "\n",
    "print(\"Descompresión completa.\")"
   ]
  },
  {
   "cell_type": "code",
   "execution_count": 18,
   "id": "d1ceb6bd-9679-4ab4-9cf6-88ecd29b545e",
   "metadata": {},
   "outputs": [
    {
     "name": "stdout",
     "output_type": "stream",
     "text": [
      "Archivos .shp encontrados en CARTAS TOPOGRAFICAS\\E14A39_III\\conjunto_de_datos:\n",
      "  - CARTAS TOPOGRAFICAS\\E14A39_III\\conjunto_de_datos\\acueducto50_l.shp\n",
      "  - CARTAS TOPOGRAFICAS\\E14A39_III\\conjunto_de_datos\\aeropuerto50_a.shp\n",
      "  - CARTAS TOPOGRAFICAS\\E14A39_III\\conjunto_de_datos\\area_cultiv50_a.shp\n",
      "  - CARTAS TOPOGRAFICAS\\E14A39_III\\conjunto_de_datos\\area_ver_ur50_a.shp\n",
      "  - CARTAS TOPOGRAFICAS\\E14A39_III\\conjunto_de_datos\\ban_mat50_p.shp\n",
      "  - CARTAS TOPOGRAFICAS\\E14A39_III\\conjunto_de_datos\\bordo50_l.shp\n",
      "  - CARTAS TOPOGRAFICAS\\E14A39_III\\conjunto_de_datos\\calle50_l.shp\n",
      "  - CARTAS TOPOGRAFICAS\\E14A39_III\\conjunto_de_datos\\camino50_l.shp\n",
      "  - CARTAS TOPOGRAFICAS\\E14A39_III\\conjunto_de_datos\\canal50_a.shp\n",
      "  - CARTAS TOPOGRAFICAS\\E14A39_III\\conjunto_de_datos\\canal50_l.shp\n",
      "  - CARTAS TOPOGRAFICAS\\E14A39_III\\conjunto_de_datos\\carretera50_l.shp\n",
      "  - CARTAS TOPOGRAFICAS\\E14A39_III\\conjunto_de_datos\\caseta_peaj50_p.shp\n",
      "  - CARTAS TOPOGRAFICAS\\E14A39_III\\conjunto_de_datos\\cementerio50_a.shp\n",
      "  - CARTAS TOPOGRAFICAS\\E14A39_III\\conjunto_de_datos\\cementerio50_p.shp\n",
      "  - CARTAS TOPOGRAFICAS\\E14A39_III\\conjunto_de_datos\\conducto50_l.shp\n",
      "  - CARTAS TOPOGRAFICAS\\E14A39_III\\conjunto_de_datos\\corriente_ag50_l.shp\n",
      "  - CARTAS TOPOGRAFICAS\\E14A39_III\\conjunto_de_datos\\corriente_de50_p.shp\n",
      "  - CARTAS TOPOGRAFICAS\\E14A39_III\\conjunto_de_datos\\cuerpo_agua50_a.shp\n",
      "  - CARTAS TOPOGRAFICAS\\E14A39_III\\conjunto_de_datos\\curva_nivel50_l.shp\n",
      "  - CARTAS TOPOGRAFICAS\\E14A39_III\\conjunto_de_datos\\deposito_des50_p.shp\n",
      "  - CARTAS TOPOGRAFICAS\\E14A39_III\\conjunto_de_datos\\edificacion50_a.shp\n",
      "  - CARTAS TOPOGRAFICAS\\E14A39_III\\conjunto_de_datos\\edificacion50_p.shp\n",
      "  - CARTAS TOPOGRAFICAS\\E14A39_III\\conjunto_de_datos\\estanque50_a.shp\n",
      "  - CARTAS TOPOGRAFICAS\\E14A39_III\\conjunto_de_datos\\estruc_ele50_p.shp\n",
      "  - CARTAS TOPOGRAFICAS\\E14A39_III\\conjunto_de_datos\\faro50_p.shp\n",
      "  - CARTAS TOPOGRAFICAS\\E14A39_III\\conjunto_de_datos\\ins_bombeo50_a.shp\n",
      "  - CARTAS TOPOGRAFICAS\\E14A39_III\\conjunto_de_datos\\ins_bombeo50_p.shp\n",
      "  - CARTAS TOPOGRAFICAS\\E14A39_III\\conjunto_de_datos\\ins_comunica50_p.shp\n",
      "  - CARTAS TOPOGRAFICAS\\E14A39_III\\conjunto_de_datos\\ins_deportiv50_a.shp\n",
      "  - CARTAS TOPOGRAFICAS\\E14A39_III\\conjunto_de_datos\\ins_diversa50_a.shp\n",
      "  - CARTAS TOPOGRAFICAS\\E14A39_III\\conjunto_de_datos\\ins_industr50_a.shp\n",
      "  - CARTAS TOPOGRAFICAS\\E14A39_III\\conjunto_de_datos\\lindero50_l.shp\n",
      "  - CARTAS TOPOGRAFICAS\\E14A39_III\\conjunto_de_datos\\linea_com50_l.shp\n",
      "  - CARTAS TOPOGRAFICAS\\E14A39_III\\conjunto_de_datos\\linea_trans50_l.shp\n",
      "  - CARTAS TOPOGRAFICAS\\E14A39_III\\conjunto_de_datos\\localidad50_a.shp\n",
      "  - CARTAS TOPOGRAFICAS\\E14A39_III\\conjunto_de_datos\\localidad50_p.shp\n",
      "  - CARTAS TOPOGRAFICAS\\E14A39_III\\conjunto_de_datos\\manantial50_p.shp\n",
      "  - CARTAS TOPOGRAFICAS\\E14A39_III\\conjunto_de_datos\\pista_aviac50_a.shp\n",
      "  - CARTAS TOPOGRAFICAS\\E14A39_III\\conjunto_de_datos\\pista_aviac50_l.shp\n",
      "  - CARTAS TOPOGRAFICAS\\E14A39_III\\conjunto_de_datos\\pista_carre50_l.shp\n",
      "  - CARTAS TOPOGRAFICAS\\E14A39_III\\conjunto_de_datos\\presa50_l.shp\n",
      "  - CARTAS TOPOGRAFICAS\\E14A39_III\\conjunto_de_datos\\puente50_l.shp\n",
      "  - CARTAS TOPOGRAFICAS\\E14A39_III\\conjunto_de_datos\\rasgo_arque50_a.shp\n",
      "  - CARTAS TOPOGRAFICAS\\E14A39_III\\conjunto_de_datos\\rasgo_arque50_p.shp\n",
      "  - CARTAS TOPOGRAFICAS\\E14A39_III\\conjunto_de_datos\\referencia50_p.shp\n",
      "  - CARTAS TOPOGRAFICAS\\E14A39_III\\conjunto_de_datos\\subesta_ele50_a.shp\n",
      "  - CARTAS TOPOGRAFICAS\\E14A39_III\\conjunto_de_datos\\subesta_ele50_p.shp\n",
      "  - CARTAS TOPOGRAFICAS\\E14A39_III\\conjunto_de_datos\\tanque50_a.shp\n",
      "  - CARTAS TOPOGRAFICAS\\E14A39_III\\conjunto_de_datos\\tanque50_p.shp\n",
      "  - CARTAS TOPOGRAFICAS\\E14A39_III\\conjunto_de_datos\\tanque_agua50_p.shp\n",
      "  - CARTAS TOPOGRAFICAS\\E14A39_III\\conjunto_de_datos\\terreno_suj50_a.shp\n",
      "  - CARTAS TOPOGRAFICAS\\E14A39_III\\conjunto_de_datos\\tunel50_l.shp\n",
      "  - CARTAS TOPOGRAFICAS\\E14A39_III\\conjunto_de_datos\\vegeta_dens50_a.shp\n",
      "  - CARTAS TOPOGRAFICAS\\E14A39_III\\conjunto_de_datos\\via_ferrea50_l.shp\n",
      "Archivos .shp encontrados en CARTAS TOPOGRAFICAS\\E14A49_III\\conjunto_de_datos:\n",
      "  - CARTAS TOPOGRAFICAS\\E14A49_III\\conjunto_de_datos\\acueducto50_l.shp\n",
      "  - CARTAS TOPOGRAFICAS\\E14A49_III\\conjunto_de_datos\\area_cultiv50_a.shp\n",
      "  - CARTAS TOPOGRAFICAS\\E14A49_III\\conjunto_de_datos\\ban_mat50_p.shp\n",
      "  - CARTAS TOPOGRAFICAS\\E14A49_III\\conjunto_de_datos\\bordo50_l.shp\n",
      "  - CARTAS TOPOGRAFICAS\\E14A49_III\\conjunto_de_datos\\calle50_l.shp\n",
      "  - CARTAS TOPOGRAFICAS\\E14A49_III\\conjunto_de_datos\\camino50_l.shp\n",
      "  - CARTAS TOPOGRAFICAS\\E14A49_III\\conjunto_de_datos\\canal50_l.shp\n",
      "  - CARTAS TOPOGRAFICAS\\E14A49_III\\conjunto_de_datos\\carretera50_l.shp\n",
      "  - CARTAS TOPOGRAFICAS\\E14A49_III\\conjunto_de_datos\\caseta_peaj50_p.shp\n",
      "  - CARTAS TOPOGRAFICAS\\E14A49_III\\conjunto_de_datos\\cementerio50_a.shp\n",
      "  - CARTAS TOPOGRAFICAS\\E14A49_III\\conjunto_de_datos\\cementerio50_p.shp\n",
      "  - CARTAS TOPOGRAFICAS\\E14A49_III\\conjunto_de_datos\\conducto50_l.shp\n",
      "  - CARTAS TOPOGRAFICAS\\E14A49_III\\conjunto_de_datos\\corriente_ag50_l.shp\n",
      "  - CARTAS TOPOGRAFICAS\\E14A49_III\\conjunto_de_datos\\corriente_de50_p.shp\n",
      "  - CARTAS TOPOGRAFICAS\\E14A49_III\\conjunto_de_datos\\cuerpo_agua50_a.shp\n",
      "  - CARTAS TOPOGRAFICAS\\E14A49_III\\conjunto_de_datos\\curva_nivel50_l.shp\n",
      "  - CARTAS TOPOGRAFICAS\\E14A49_III\\conjunto_de_datos\\edificacion50_a.shp\n",
      "  - CARTAS TOPOGRAFICAS\\E14A49_III\\conjunto_de_datos\\edificacion50_p.shp\n",
      "  - CARTAS TOPOGRAFICAS\\E14A49_III\\conjunto_de_datos\\estanque50_a.shp\n",
      "  - CARTAS TOPOGRAFICAS\\E14A49_III\\conjunto_de_datos\\estruc_ele50_p.shp\n",
      "  - CARTAS TOPOGRAFICAS\\E14A49_III\\conjunto_de_datos\\ins_bombeo50_p.shp\n",
      "  - CARTAS TOPOGRAFICAS\\E14A49_III\\conjunto_de_datos\\ins_comunica50_p.shp\n",
      "  - CARTAS TOPOGRAFICAS\\E14A49_III\\conjunto_de_datos\\ins_deportiv50_a.shp\n",
      "  - CARTAS TOPOGRAFICAS\\E14A49_III\\conjunto_de_datos\\ins_deportiv50_p.shp\n",
      "  - CARTAS TOPOGRAFICAS\\E14A49_III\\conjunto_de_datos\\ins_diversa50_a.shp\n",
      "  - CARTAS TOPOGRAFICAS\\E14A49_III\\conjunto_de_datos\\ins_diversa50_p.shp\n",
      "  - CARTAS TOPOGRAFICAS\\E14A49_III\\conjunto_de_datos\\lindero50_l.shp\n",
      "  - CARTAS TOPOGRAFICAS\\E14A49_III\\conjunto_de_datos\\linea_com50_l.shp\n",
      "  - CARTAS TOPOGRAFICAS\\E14A49_III\\conjunto_de_datos\\linea_trans50_l.shp\n",
      "  - CARTAS TOPOGRAFICAS\\E14A49_III\\conjunto_de_datos\\localidad50_a.shp\n",
      "  - CARTAS TOPOGRAFICAS\\E14A49_III\\conjunto_de_datos\\localidad50_p.shp\n",
      "  - CARTAS TOPOGRAFICAS\\E14A49_III\\conjunto_de_datos\\malpais50_a.shp\n",
      "  - CARTAS TOPOGRAFICAS\\E14A49_III\\conjunto_de_datos\\manantial50_p.shp\n",
      "  - CARTAS TOPOGRAFICAS\\E14A49_III\\conjunto_de_datos\\puente50_l.shp\n",
      "  - CARTAS TOPOGRAFICAS\\E14A49_III\\conjunto_de_datos\\rasgo_arque50_p.shp\n",
      "  - CARTAS TOPOGRAFICAS\\E14A49_III\\conjunto_de_datos\\referencia50_p.shp\n",
      "  - CARTAS TOPOGRAFICAS\\E14A49_III\\conjunto_de_datos\\subesta_ele50_a.shp\n",
      "  - CARTAS TOPOGRAFICAS\\E14A49_III\\conjunto_de_datos\\subesta_ele50_p.shp\n",
      "  - CARTAS TOPOGRAFICAS\\E14A49_III\\conjunto_de_datos\\tanque_agua50_a.shp\n",
      "  - CARTAS TOPOGRAFICAS\\E14A49_III\\conjunto_de_datos\\tanque_agua50_p.shp\n",
      "  - CARTAS TOPOGRAFICAS\\E14A49_III\\conjunto_de_datos\\terreno_suj50_a.shp\n",
      "  - CARTAS TOPOGRAFICAS\\E14A49_III\\conjunto_de_datos\\vegeta_dens50_a.shp\n",
      "  - CARTAS TOPOGRAFICAS\\E14A49_III\\conjunto_de_datos\\via_ferrea50_l.shp\n"
     ]
    }
   ],
   "source": [
    "def buscar_archivos_shp(carpeta):\n",
    "    archivos_shp = []    \n",
    "    for raiz, directorios, archivos in os.walk(carpeta):\n",
    "        for archivo in archivos:\n",
    "            if archivo.endswith('.shp'):\n",
    "                ruta_archivo = os.path.join(raiz, archivo)\n",
    "                archivos_shp.append(ruta_archivo)    \n",
    "    return archivos_shp\n",
    "    \n",
    "for carpeta in os.listdir(carpeta_zip):\n",
    "    ruta_carpeta = os.path.join(carpeta_zip, carpeta)    \n",
    "    if os.path.isdir(ruta_carpeta):\n",
    "        ruta_conjunto_datos = os.path.join(ruta_carpeta, 'conjunto_de_datos')        \n",
    "        if os.path.isdir(ruta_conjunto_datos):\n",
    "            archivos_shp = buscar_archivos_shp(ruta_conjunto_datos)            \n",
    "            if archivos_shp:\n",
    "                print(f\"Archivos .shp encontrados en {ruta_conjunto_datos}:\")\n",
    "                for archivo in archivos_shp:\n",
    "                    print(f\"  - {archivo}\")\n",
    "            else:\n",
    "                print(f\"No se encontraron archivos .shp en {ruta_conjunto_datos}.\")"
   ]
  },
  {
   "cell_type": "code",
   "execution_count": 19,
   "id": "acab0093-f3a4-4f0f-a776-1963e0728e20",
   "metadata": {},
   "outputs": [
    {
     "name": "stdout",
     "output_type": "stream",
     "text": [
      "Archivo unido y cortado guardado en: CARTAS TOPOGRAFICAS\\C09012_ACUEDUCTO50_L_INEGI_Serie_III.geojson\n",
      "El GeoDataFrame resultante de canal50_l.shp está vacío después del corte.\n",
      "Archivo unido y cortado guardado en: CARTAS TOPOGRAFICAS\\C09012_CORRIENTE_AG50_L_INEGI_Serie_III.geojson\n",
      "Archivo unido y cortado guardado en: CARTAS TOPOGRAFICAS\\C09012_CUERPO_AGUA50_A_INEGI_Serie_III.geojson\n",
      "Archivo unido y cortado guardado en: CARTAS TOPOGRAFICAS\\C09012_CURVA_NIVEL50_L_INEGI_Serie_III.geojson\n",
      "Archivo unido y cortado guardado en: CARTAS TOPOGRAFICAS\\C09012_LINEA_TRANS50_L_INEGI_Serie_III.geojson\n",
      "El GeoDataFrame resultante de canal50_a.shp está vacío después del corte.\n",
      "Archivo unido y cortado guardado en: CARTAS TOPOGRAFICAS\\C09012_CONDUCTO50_L_INEGI_Serie_III.geojson\n",
      "Archivo unido y cortado guardado en: CARTAS TOPOGRAFICAS\\C09012_VIA_FERREA50_L_INEGI_Serie_III.geojson\n",
      "El GeoDataFrame resultante de aeropuerto50_a.shp está vacío después del corte.\n",
      "Proceso de unión y corte completo.\n"
     ]
    }
   ],
   "source": [
    "nombres_archivos = ['acueducto50_l.shp', 'canal50_l.shp', 'corriente_ag50_l.shp','cuerpo_agua50_a.shp', 'curva_nivel50_l.shp', 'linea_trans50_l.shp','canal50_a.shp', 'conducto50_l.shp', 'via_ferrea50_l.shp','aeropuerto50_a.shp']\n",
    "\n",
    "def buscar_archivos(carpeta, nombres_archivos):\n",
    "    archivos_encontrados = {nombre: [] for nombre in nombres_archivos}\n",
    "    for raiz, directorios, archivos in os.walk(carpeta):\n",
    "        for archivo in archivos:\n",
    "            if archivo in nombres_archivos:\n",
    "                archivos_encontrados[archivo].append(os.path.join(raiz, archivo))\n",
    "    return archivos_encontrados\n",
    "    \n",
    "carpeta_zip = 'CARTAS TOPOGRAFICAS'\n",
    "\n",
    "gdfs_dict = {nombre: [] for nombre in nombres_archivos}\n",
    "\n",
    "for carpeta in os.listdir(carpeta_zip):\n",
    "    ruta = os.path.join(carpeta_zip, carpeta)\n",
    "    if os.path.isdir(ruta):\n",
    "        ruta_conjunto_de_datos = os.path.join(ruta, 'conjunto_de_datos')\n",
    "        if os.path.isdir(ruta_conjunto_de_datos):\n",
    "            archivos_encontrados = buscar_archivos(ruta_conjunto_de_datos, nombres_archivos)            \n",
    "            for nombre_archivo, rutas_archivos in archivos_encontrados.items():\n",
    "                for ruta_archivo in rutas_archivos:\n",
    "                    gdf = gpd.read_file(ruta_archivo)\n",
    "                    gdf = gdf.to_crs(epsg=6372)\n",
    "                    gdf['Cve_Ent'] = cve_ent\n",
    "                    gdf['Cve_MunC'] = cvegeo\n",
    "                    campos_a_conservar = [campo for campo in ['geografico', 'elevacion', 'nombre'] if campo in gdf.columns]\n",
    "                    gdf = gdf[['geometry', 'Cve_Ent', 'Cve_MunC'] + campos_a_conservar]\n",
    "                    gdfs_dict[nombre_archivo].append(gdf)\n",
    "                    \n",
    "for nombre_archivo, gdfs in gdfs_dict.items():\n",
    "    if gdfs:\n",
    "        gdf_unido = gpd.GeoDataFrame(pd.concat(gdfs, ignore_index=True))\n",
    "        if gdf_unido.crs != 'EPSG:6372':\n",
    "            gdf_unido = gdf_unido.to_crs(epsg=6372)        \n",
    "        gdf_cortado = gpd.overlay(gdf_unido, zona_corte, how='intersection')        \n",
    "        if not gdf_cortado.empty:\n",
    "            nombre_archivo_mayus = nombre_archivo.upper()\n",
    "            nombre_salida = f\"C{cvegeo}_{os.path.splitext(nombre_archivo_mayus)[0]}_INEGI_Serie_III.geojson\"\n",
    "            ruta_salida = os.path.join(carpeta_zip, nombre_salida)\n",
    "            gdf_cortado.to_file(ruta_salida)\n",
    "            print(f\"Archivo unido y cortado guardado en: {ruta_salida}\")\n",
    "        else:\n",
    "            print(f\"El GeoDataFrame resultante de {nombre_archivo} está vacío después del corte.\")\n",
    "print(\"Proceso de unión y corte completo.\")"
   ]
  },
  {
   "cell_type": "code",
   "execution_count": null,
   "id": "27a1a045-bde2-4329-9344-a0ebdbe24f8d",
   "metadata": {},
   "outputs": [],
   "source": []
  }
 ],
 "metadata": {
  "kernelspec": {
   "display_name": "Python 3 (ipykernel)",
   "language": "python",
   "name": "python3"
  },
  "language_info": {
   "codemirror_mode": {
    "name": "ipython",
    "version": 3
   },
   "file_extension": ".py",
   "mimetype": "text/x-python",
   "name": "python",
   "nbconvert_exporter": "python",
   "pygments_lexer": "ipython3",
   "version": "3.8.20"
  }
 },
 "nbformat": 4,
 "nbformat_minor": 5
}
