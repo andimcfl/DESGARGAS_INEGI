{
 "cells": [
  {
   "cell_type": "code",
   "execution_count": 10,
   "id": "07110907-09ad-43ae-829c-ca5cdaf94c46",
   "metadata": {},
   "outputs": [],
   "source": [
    "#Importar las librerias necesarias\n",
    "import geopandas as gpd\n",
    "from shapely.geometry import box\n",
    "from osgeo import gdal\n",
    "from copy import deepcopy\n",
    "import os, math\n",
    "import numpy as np\n",
    "import requests\n",
    "import pandas as pd\n",
    "import gdown\n",
    "from urllib.parse import urlparse\n",
    "from selenium import webdriver\n",
    "from selenium.webdriver.chrome.service import Service\n",
    "from selenium.webdriver.common.by import By\n",
    "from selenium.webdriver.support.ui import WebDriverWait\n",
    "from selenium.webdriver.support import expected_conditions as EC\n",
    "from selenium.webdriver.common.keys import Keys\n",
    "import time\n",
    "import zipfile\n",
    "import warnings"
   ]
  },
  {
   "cell_type": "code",
   "execution_count": 11,
   "id": "a4586822-c2c7-498d-a9eb-976c05a1d1a4",
   "metadata": {},
   "outputs": [],
   "source": [
    "#Establecer directorio de trabajo\n",
    "os.chdir(r\"C:\\Users\\brenp\\Downloads\") #Cambiar a su directorio de trabajo "
   ]
  },
  {
   "cell_type": "code",
   "execution_count": 12,
   "id": "3c2329ab-966e-41a4-9fff-09abee916a83",
   "metadata": {},
   "outputs": [],
   "source": [
    "# Descargar y descomprimir el chromedriver\n",
    "url = \"https://storage.googleapis.com/chrome-for-testing-public/134.0.6998.88/win64/chromedriver-win64.zip\" #Esta ruta cambia dependiendo de tu versión de google chrome\n",
    "zip_path = \"chromedriver-win64.zip\"\n",
    "extract_path = \"chromedriver-win64\"\n",
    "\n",
    "response = requests.get(url)\n",
    "with open(zip_path, \"wb\") as f:\n",
    "    f.write(response.content)\n",
    "    \n",
    "if zipfile.is_zipfile(zip_path):\n",
    "    with zipfile.ZipFile(zip_path, \"r\") as zip_ref:\n",
    "        zip_ref.extractall(extract_path)\n",
    "    os.remove(zip_path) \n",
    "\n",
    "webdriver_path = r'chromedriver-win64\\chromedriver-win64\\chromedriver.exe'\n",
    "options = webdriver.ChromeOptions()\n",
    "options.add_argument('headless=False')\n",
    "options.add_argument('--disable-gpu')\n",
    "service = Service(webdriver_path)\n",
    "driver = webdriver.Chrome(service=service, options=options)"
   ]
  },
  {
   "cell_type": "code",
   "execution_count": 13,
   "id": "9e5c2da8-e0f0-41b7-819d-2c9d3823c1d6",
   "metadata": {},
   "outputs": [
    {
     "name": "stderr",
     "output_type": "stream",
     "text": [
      "Downloading...\n",
      "From (original): https://drive.google.com/uc?id=1ys8ruwz9XzrdewLbqm8cDPCxxbelS_Ft\n",
      "From (redirected): https://drive.google.com/uc?id=1ys8ruwz9XzrdewLbqm8cDPCxxbelS_Ft&confirm=t&uuid=c03b65c9-7c61-4415-9147-4daa4dd97ce6\n",
      "To: C:\\Users\\brenp\\Downloads\\00mun.geojson\n",
      "100%|███████████████████████████████████████████████████████████████████████████████| 202M/202M [01:23<00:00, 2.43MB/s]\n"
     ]
    },
    {
     "name": "stdout",
     "output_type": "stream",
     "text": [
      "Carga completa\n"
     ]
    }
   ],
   "source": [
    "#Geojson con el límite municipal, se encuentra en mi drive personal, puedes descargarlo desde aqui\n",
    "file_id = \"1ys8ruwz9XzrdewLbqm8cDPCxxbelS_Ft\"\n",
    "file = \"00mun.geojson\"  \n",
    "\n",
    "gdown.download(f\"https://drive.google.com/uc?id={file_id}\")\n",
    "\n",
    "#Aqui definimmos la capa base para buscar los límites de los municipios y la CVEGEO para nombrar archivos, esto puede cambiar de acuerdo al límite que quieras\n",
    "LIMITE_MUNICIPAL = gpd.read_file(file)\n",
    "print(\"Carga completa\")"
   ]
  },
  {
   "cell_type": "code",
   "execution_count": 14,
   "id": "b9a5c575-a043-4832-ab3b-6279e3eaa08d",
   "metadata": {},
   "outputs": [],
   "source": [
    "#función para buscar el municipio y la clave CVEGEO, en caso de no saberla buscando la entidad y el nombre del municipio\n",
    "def buscar_municipio(nom_ent, nomgeo):\n",
    "    resultado = LIMITE_MUNICIPAL[(LIMITE_MUNICIPAL['NOM_ENT'] == nom_ent) & (LIMITE_MUNICIPAL['NOMGEO'] == nomgeo)]    \n",
    "    if not resultado.empty:\n",
    "        resultado = resultado[['CVE_ENT', 'NOM_ENT', 'NOMGEO', 'CVEGEO']]\n",
    "        print(f\"Municipio encontrado:\\n{resultado}\")\n",
    "    else:\n",
    "        print(f\"No se encontró el municipio con ESTADO '{nom_ent}' y MUNICIPIO '{nomgeo}'.\")\n",
    "    \n",
    "    return resultado"
   ]
  },
  {
   "cell_type": "code",
   "execution_count": 15,
   "id": "85e6cde1-e660-4d02-8663-3cfd043351ad",
   "metadata": {},
   "outputs": [
    {
     "name": "stdout",
     "output_type": "stream",
     "text": [
      "Municipio encontrado:\n",
      "    CVE_ENT           NOM_ENT      NOMGEO CVEGEO\n",
      "286      09  Ciudad de México  Xochimilco  09013\n"
     ]
    }
   ],
   "source": [
    "#Buscar el nombre de la entidad y del municipio de interés, si tu area es otro tipo de polígono, puedes omitir esta parte\n",
    "nom_ent = 'Ciudad de México'\n",
    "nomgeo = 'Xochimilco'\n",
    "resultado = buscar_municipio(nom_ent, nomgeo)"
   ]
  },
  {
   "cell_type": "code",
   "execution_count": 16,
   "id": "fdbe8dd6-8f8a-45c4-bc1f-225115ea9666",
   "metadata": {},
   "outputs": [
    {
     "name": "stdout",
     "output_type": "stream",
     "text": [
      "    CVEGEO CVE_ENT CVE_MUN      NOMGEO           NOM_ENT  \\\n",
      "286  09013      09     013  Xochimilco  Ciudad de México   \n",
      "\n",
      "                                              geometry  \n",
      "286  MULTIPOLYGON (((2804027.680 816664.230, 280405...  \n"
     ]
    }
   ],
   "source": [
    "#Definir clave unica y zona de corte\n",
    "'''\n",
    "La zona corte la puedes definir como mejor requieras, dejo las opciones para coordenadas límites o para cortar con un buffer, en este caso\n",
    "la geometria de corte estará definida por el límite del municipio, cambiala como te sea conveniente\n",
    "'''\n",
    "cvegeo = '09013' #Esta clave servirá también para renombrar los archivos y llenar campos, en caso de requerir otra clave no olvides cambiarla\n",
    "cve_ent = '09' #Esta clave sera de utilidad para crear campos de identificación den las capas, no olvides cambiarla\n",
    "municipio = LIMITE_MUNICIPAL[LIMITE_MUNICIPAL['CVEGEO'] == cvegeo].to_crs(epsg=6372)\n",
    "bounds = municipio.total_bounds\n",
    "bounding_box = box(bounds[0], bounds[1], bounds[2], bounds[3])\n",
    "buffer = bounding_box.buffer(2000) #área del buffer par recortar\n",
    "#zona_corte = gpd.GeoDataFrame(geometry=[buffer], crs=LIMITE_MUNICIPAL.crs).to_crs(epsg=6372) \n",
    "#zona_corte = gpd.GeoDataFrame(geometry=[bounding_box], crs=LIMITE_MUNICIPAL.crs).to_crs(epsg=6372) \n",
    "zona_corte = municipio\n",
    "print(zona_corte)"
   ]
  },
  {
   "cell_type": "code",
   "execution_count": 17,
   "id": "7713fa62-33b6-4dbc-ba3b-12a999d1049d",
   "metadata": {},
   "outputs": [],
   "source": [
    "zona_corte.to_file(f\"C{cvegeo}_ZONACORTE_EP_2025.geojson\") #si no requieres el límite de la zona que quiereas, puedes omitir esta parte"
   ]
  },
  {
   "cell_type": "code",
   "execution_count": 18,
   "id": "661d51aa-abbd-4d81-a5fa-97708fa98494",
   "metadata": {},
   "outputs": [
    {
     "name": "stdout",
     "output_type": "stream",
     "text": [
      "Carga completa\n",
      "['E14A39' 'E14A49']\n"
     ]
    }
   ],
   "source": [
    "#Las cartas a 50,000 estan clasificadas en una malla con claves unicas asi puedes buscar las claves que caigan en la zona de tu interés\n",
    "cartas = gpd.read_file(\"https://raw.githubusercontent.com/andimcfl/DESGARGAS_INEGI/main/scrips/INSUMOS%20BASE/div50k_lcc.geojson\").to_crs(epsg=6372)\n",
    "print(\"Carga completa\")\n",
    "claves = cartas['CLAVE50K'].unique()\n",
    "claves_en_zona_corte = gpd.sjoin(cartas, zona_corte, how='inner', predicate='intersects')\n",
    "claves_cartas_topograficas = claves_en_zona_corte['CLAVE50K'].unique()\n",
    "print(claves_cartas_topograficas)"
   ]
  },
  {
   "cell_type": "code",
   "execution_count": 19,
   "id": "5365ed9f-6760-42ce-ab8d-adc38bf91a8c",
   "metadata": {},
   "outputs": [],
   "source": [
    "#Página de INEGI para descargar las cartas\n",
    "url = 'https://www.inegi.org.mx/programas/topografia/50000/#descargas'\n",
    "driver.get(url)"
   ]
  },
  {
   "cell_type": "code",
   "execution_count": 20,
   "id": "03812429-77ae-48af-b7b7-92ab6896725b",
   "metadata": {},
   "outputs": [
    {
     "name": "stdout",
     "output_type": "stream",
     "text": [
      "Clave: E14A39 - Serie: Sin Serie - Enlace de descarga: https://www.inegi.org.mx/contenidos/productos/prod_serv/contenidos/espanol/bvinegi/productos/geografia/imagen_cartografica/1_50_000/889463854135_s.zip\n",
      "Clave: E14A39 - Serie: 2019 - Enlace de descarga: https://www.inegi.org.mx/contenidos/productos/prod_serv/contenidos/espanol/bvinegi/productos/geografia/imagen_cartografica/1_50_000/889463833406_s.zip\n",
      "Clave: E14A39 - Serie: III - Enlace de descarga: https://www.inegi.org.mx/contenidos/productos/prod_serv/contenidos/espanol/bvinegi/productos/geografia/imagen_cartografica/1_50_000/702825266721_s.zip\n",
      "Clave: E14A39 - Serie: II - Enlace de descarga: https://www.inegi.org.mx/contenidos/productos/prod_serv/contenidos/espanol/bvinegi/productos/geografia/imagen_cartografica/1_50_000/702825003701_s.zip\n",
      "Clave: E14A49 - Serie: Sin Serie - Enlace de descarga: https://www.inegi.org.mx/contenidos/productos/prod_serv/contenidos/espanol/bvinegi/productos/geografia/imagen_cartografica/1_50_000/889463854142_s.zip\n",
      "Clave: E14A49 - Serie: 2019 - Enlace de descarga: https://www.inegi.org.mx/contenidos/productos/prod_serv/contenidos/espanol/bvinegi/productos/geografia/imagen_cartografica/1_50_000/889463832362_s.zip\n",
      "Clave: E14A49 - Serie: III - Enlace de descarga: https://www.inegi.org.mx/contenidos/productos/prod_serv/contenidos/espanol/bvinegi/productos/geografia/imagen_cartografica/1_50_000/702825003032_s.zip\n",
      "Clave: E14A49 - Serie: II - Enlace de descarga: https://www.inegi.org.mx/contenidos/productos/prod_serv/contenidos/espanol/bvinegi/productos/geografia/imagen_cartografica/1_50_000/702825003704_s.zip\n"
     ]
    }
   ],
   "source": [
    "#Busqueda de las claves de las cartas en la página de INEGI\n",
    "wait = WebDriverWait(driver, 100)\n",
    "\n",
    "wait.until(EC.presence_of_element_located((By.CSS_SELECTOR, 'input#bcm_resultBusqueda3_input_search')))\n",
    "\n",
    "clave_enlace_list = []\n",
    "\n",
    "def buscar_clave(clave):\n",
    "    search_box = driver.find_element(By.CSS_SELECTOR, 'input#bcm_resultBusqueda3_input_search')\n",
    "    search_button = driver.find_element(By.CSS_SELECTOR, 'button#bcm_buscar_btn_resultBusqueda3')\n",
    "    driver.execute_script(\"arguments[0].scrollIntoView();\", search_box)\n",
    "    driver.execute_script(\"arguments[0].scrollIntoView();\", search_button)\n",
    "    search_box.clear()\n",
    "    search_box.send_keys(clave)\n",
    "    WebDriverWait(driver, 100).until(EC.element_to_be_clickable((By.CSS_SELECTOR, 'button#bcm_buscar_btn_resultBusqueda3')))\n",
    "    driver.execute_script(\"arguments[0].click();\", search_button)\n",
    "    WebDriverWait(driver, 100).until(EC.presence_of_element_located((By.CSS_SELECTOR, 'tbody')))\n",
    "\n",
    "def obtener_Serie (row):\n",
    "    Serie = None\n",
    "    for i in [4]:\n",
    "        try:\n",
    "            Serie_element = row.find_element(By.CSS_SELECTOR, f'td:nth-child({i}) .tablesaw-cell-content')\n",
    "            Serie = Serie_element.text.strip()\n",
    "            if Serie: \n",
    "                break\n",
    "        except Exception:\n",
    "            continue \n",
    "    return Serie if Serie else \"Sin Serie\"\n",
    "\n",
    "def procesar_filas(clave_buscar):\n",
    "    rows = driver.find_elements(By.CSS_SELECTOR, 'tbody tr')\n",
    "    for row in rows:\n",
    "        try:\n",
    "            clave_element = row.find_element(By.CSS_SELECTOR, 'td:nth-child(1) .tablesaw-cell-content')\n",
    "            clave = clave_element.text.strip()\n",
    "            Serie = obtener_Serie(row) \n",
    "            enlace_descarga = None\n",
    "            for i in [8, 9, 10]:\n",
    "                try:\n",
    "                    tipo_archivo_element = row.find_element(By.CSS_SELECTOR, f'td:nth-child({i}) img[src=\"/img/ico/ico_shp.png\"]')\n",
    "                    if tipo_archivo_element:\n",
    "                        enlace_element = row.find_element(By.CSS_SELECTOR, f'td:nth-child({i}) a[href$=\".zip\"]')\n",
    "                        enlace_descarga = enlace_element.get_attribute('href')\n",
    "                        break\n",
    "                except Exception:\n",
    "                    continue\n",
    "            if enlace_descarga:\n",
    "                clave_enlace_list.append((clave, Serie, enlace_descarga))\n",
    "        except Exception:\n",
    "            continue\n",
    "\n",
    "for clave_buscar in claves_cartas_topograficas:\n",
    "    buscar_clave(clave_buscar)\n",
    "    time.sleep(15)\n",
    "    last_height = driver.execute_script(\"return document.body.scrollHeight\")\n",
    "    while True:\n",
    "        procesar_filas(clave_buscar)\n",
    "        driver.execute_script(\"window.scrollTo(0, document.body.scrollHeight);\")\n",
    "        time.sleep(20)\n",
    "        new_height = driver.execute_script(\"return document.body.scrollHeight\")\n",
    "        if new_height == last_height:\n",
    "            break\n",
    "        last_height = new_height\n",
    "\n",
    "if clave_enlace_list:\n",
    "    for clave, Serie, enlace in clave_enlace_list:\n",
    "        print(f\"Clave: {clave} - Serie: {Serie} - Enlace de descarga: {enlace}\")\n",
    "else:\n",
    "    print(\"No se encontraron resultados para las claves buscadas\")\n",
    "\n",
    "driver.quit()"
   ]
  },
  {
   "cell_type": "code",
   "execution_count": 21,
   "id": "6140fc05-7595-4418-8156-35e8be4fb546",
   "metadata": {},
   "outputs": [
    {
     "name": "stdout",
     "output_type": "stream",
     "text": [
      "Descargado: CARTAS TOPOGRAFICAS\\E14A39_III.zip\n",
      "Descargado: CARTAS TOPOGRAFICAS\\E14A49_III.zip\n",
      "Descarga completa.\n"
     ]
    }
   ],
   "source": [
    "#Descarga de los archivos vectoriales que requieras, se renombran con la calve de la carta y la serie de descarga\n",
    "def descargar_archivo(url, carpeta_destino, nombre_archivo):\n",
    "    respuesta = requests.get(url, stream=True)\n",
    "    ruta_archivo = os.path.join(carpeta_destino, nombre_archivo)\n",
    "    \n",
    "    with open(ruta_archivo, 'wb') as archivo:\n",
    "        for chunk in respuesta.iter_content(chunk_size=32768):\n",
    "            if chunk:\n",
    "                archivo.write(chunk)\n",
    "    \n",
    "    print(f\"Descargado: {ruta_archivo}\")\n",
    "\n",
    "Serie_deseada = \"III\" #puedes cambiarlo a la serie o al año que te interese\n",
    "carpeta_descargas = \"CARTAS TOPOGRAFICAS\" #Esta es la carpeta donde se descargarán puedes cambiar el nombre pero no olvides cambiarla más abajo\n",
    "os.makedirs(carpeta_descargas, exist_ok=True)\n",
    "\n",
    "for clave, Serie, enlace in clave_enlace_list:\n",
    "    if Serie == Serie_deseada:\n",
    "        nombre_archivo = f\"{clave}_{Serie}.zip\"\n",
    "        descargar_archivo(enlace, carpeta_descargas, nombre_archivo)\n",
    "\n",
    "print(\"Descarga completa.\")"
   ]
  },
  {
   "cell_type": "code",
   "execution_count": 22,
   "id": "2e85a045-f704-41b3-b51f-e3aaab016e56",
   "metadata": {},
   "outputs": [
    {
     "name": "stdout",
     "output_type": "stream",
     "text": [
      "Descomprimido: CARTAS TOPOGRAFICAS\\E14A39_III.zip en CARTAS TOPOGRAFICAS\\E14A39_III\n",
      "Descomprimido: CARTAS TOPOGRAFICAS\\E14A49_III.zip en CARTAS TOPOGRAFICAS\\E14A49_III\n",
      "Descompresión completa.\n"
     ]
    }
   ],
   "source": [
    "#Descompresión de los datos\n",
    "carpeta_zip = 'CARTAS TOPOGRAFICAS'\n",
    "os.makedirs(carpeta_zip, exist_ok=True)\n",
    "\n",
    "for archivo_zip in os.listdir(carpeta_zip):\n",
    "    if archivo_zip.endswith('.zip'):\n",
    "        ruta_zip = os.path.join(carpeta_zip, archivo_zip)\n",
    "        nombre = os.path.splitext(archivo_zip)[0]\n",
    "        carpeta = os.path.join(carpeta_zip, nombre)\n",
    "        os.makedirs(carpeta, exist_ok=True)\n",
    "        with zipfile.ZipFile(ruta_zip, 'r') as archivo_zip_obj:\n",
    "            archivo_zip_obj.extractall(carpeta)\n",
    "            print(f\"Descomprimido: {ruta_zip} en {carpeta}\")\n",
    "\n",
    "print(\"Descompresión completa.\")"
   ]
  },
  {
   "cell_type": "code",
   "execution_count": 23,
   "id": "d1ceb6bd-9679-4ab4-9cf6-88ecd29b545e",
   "metadata": {},
   "outputs": [
    {
     "name": "stdout",
     "output_type": "stream",
     "text": [
      "Archivos .shp encontrados en CARTAS TOPOGRAFICAS\\E14A39_III\\conjunto_de_datos:\n",
      "  - CARTAS TOPOGRAFICAS\\E14A39_III\\conjunto_de_datos\\acueducto50_l.shp\n",
      "  - CARTAS TOPOGRAFICAS\\E14A39_III\\conjunto_de_datos\\aeropuerto50_a.shp\n",
      "  - CARTAS TOPOGRAFICAS\\E14A39_III\\conjunto_de_datos\\area_cultiv50_a.shp\n",
      "  - CARTAS TOPOGRAFICAS\\E14A39_III\\conjunto_de_datos\\area_ver_ur50_a.shp\n",
      "  - CARTAS TOPOGRAFICAS\\E14A39_III\\conjunto_de_datos\\ban_mat50_p.shp\n",
      "  - CARTAS TOPOGRAFICAS\\E14A39_III\\conjunto_de_datos\\bordo50_l.shp\n",
      "  - CARTAS TOPOGRAFICAS\\E14A39_III\\conjunto_de_datos\\calle50_l.shp\n",
      "  - CARTAS TOPOGRAFICAS\\E14A39_III\\conjunto_de_datos\\camino50_l.shp\n",
      "  - CARTAS TOPOGRAFICAS\\E14A39_III\\conjunto_de_datos\\canal50_a.shp\n",
      "  - CARTAS TOPOGRAFICAS\\E14A39_III\\conjunto_de_datos\\canal50_l.shp\n",
      "  - CARTAS TOPOGRAFICAS\\E14A39_III\\conjunto_de_datos\\carretera50_l.shp\n",
      "  - CARTAS TOPOGRAFICAS\\E14A39_III\\conjunto_de_datos\\caseta_peaj50_p.shp\n",
      "  - CARTAS TOPOGRAFICAS\\E14A39_III\\conjunto_de_datos\\cementerio50_a.shp\n",
      "  - CARTAS TOPOGRAFICAS\\E14A39_III\\conjunto_de_datos\\cementerio50_p.shp\n",
      "  - CARTAS TOPOGRAFICAS\\E14A39_III\\conjunto_de_datos\\conducto50_l.shp\n",
      "  - CARTAS TOPOGRAFICAS\\E14A39_III\\conjunto_de_datos\\corriente_ag50_l.shp\n",
      "  - CARTAS TOPOGRAFICAS\\E14A39_III\\conjunto_de_datos\\corriente_de50_p.shp\n",
      "  - CARTAS TOPOGRAFICAS\\E14A39_III\\conjunto_de_datos\\cuerpo_agua50_a.shp\n",
      "  - CARTAS TOPOGRAFICAS\\E14A39_III\\conjunto_de_datos\\curva_nivel50_l.shp\n",
      "  - CARTAS TOPOGRAFICAS\\E14A39_III\\conjunto_de_datos\\deposito_des50_p.shp\n",
      "  - CARTAS TOPOGRAFICAS\\E14A39_III\\conjunto_de_datos\\edificacion50_a.shp\n",
      "  - CARTAS TOPOGRAFICAS\\E14A39_III\\conjunto_de_datos\\edificacion50_p.shp\n",
      "  - CARTAS TOPOGRAFICAS\\E14A39_III\\conjunto_de_datos\\estanque50_a.shp\n",
      "  - CARTAS TOPOGRAFICAS\\E14A39_III\\conjunto_de_datos\\estruc_ele50_p.shp\n",
      "  - CARTAS TOPOGRAFICAS\\E14A39_III\\conjunto_de_datos\\faro50_p.shp\n",
      "  - CARTAS TOPOGRAFICAS\\E14A39_III\\conjunto_de_datos\\ins_bombeo50_a.shp\n",
      "  - CARTAS TOPOGRAFICAS\\E14A39_III\\conjunto_de_datos\\ins_bombeo50_p.shp\n",
      "  - CARTAS TOPOGRAFICAS\\E14A39_III\\conjunto_de_datos\\ins_comunica50_p.shp\n",
      "  - CARTAS TOPOGRAFICAS\\E14A39_III\\conjunto_de_datos\\ins_deportiv50_a.shp\n",
      "  - CARTAS TOPOGRAFICAS\\E14A39_III\\conjunto_de_datos\\ins_diversa50_a.shp\n",
      "  - CARTAS TOPOGRAFICAS\\E14A39_III\\conjunto_de_datos\\ins_industr50_a.shp\n",
      "  - CARTAS TOPOGRAFICAS\\E14A39_III\\conjunto_de_datos\\lindero50_l.shp\n",
      "  - CARTAS TOPOGRAFICAS\\E14A39_III\\conjunto_de_datos\\linea_com50_l.shp\n",
      "  - CARTAS TOPOGRAFICAS\\E14A39_III\\conjunto_de_datos\\linea_trans50_l.shp\n",
      "  - CARTAS TOPOGRAFICAS\\E14A39_III\\conjunto_de_datos\\localidad50_a.shp\n",
      "  - CARTAS TOPOGRAFICAS\\E14A39_III\\conjunto_de_datos\\localidad50_p.shp\n",
      "  - CARTAS TOPOGRAFICAS\\E14A39_III\\conjunto_de_datos\\manantial50_p.shp\n",
      "  - CARTAS TOPOGRAFICAS\\E14A39_III\\conjunto_de_datos\\pista_aviac50_a.shp\n",
      "  - CARTAS TOPOGRAFICAS\\E14A39_III\\conjunto_de_datos\\pista_aviac50_l.shp\n",
      "  - CARTAS TOPOGRAFICAS\\E14A39_III\\conjunto_de_datos\\pista_carre50_l.shp\n",
      "  - CARTAS TOPOGRAFICAS\\E14A39_III\\conjunto_de_datos\\presa50_l.shp\n",
      "  - CARTAS TOPOGRAFICAS\\E14A39_III\\conjunto_de_datos\\puente50_l.shp\n",
      "  - CARTAS TOPOGRAFICAS\\E14A39_III\\conjunto_de_datos\\rasgo_arque50_a.shp\n",
      "  - CARTAS TOPOGRAFICAS\\E14A39_III\\conjunto_de_datos\\rasgo_arque50_p.shp\n",
      "  - CARTAS TOPOGRAFICAS\\E14A39_III\\conjunto_de_datos\\referencia50_p.shp\n",
      "  - CARTAS TOPOGRAFICAS\\E14A39_III\\conjunto_de_datos\\subesta_ele50_a.shp\n",
      "  - CARTAS TOPOGRAFICAS\\E14A39_III\\conjunto_de_datos\\subesta_ele50_p.shp\n",
      "  - CARTAS TOPOGRAFICAS\\E14A39_III\\conjunto_de_datos\\tanque50_a.shp\n",
      "  - CARTAS TOPOGRAFICAS\\E14A39_III\\conjunto_de_datos\\tanque50_p.shp\n",
      "  - CARTAS TOPOGRAFICAS\\E14A39_III\\conjunto_de_datos\\tanque_agua50_p.shp\n",
      "  - CARTAS TOPOGRAFICAS\\E14A39_III\\conjunto_de_datos\\terreno_suj50_a.shp\n",
      "  - CARTAS TOPOGRAFICAS\\E14A39_III\\conjunto_de_datos\\tunel50_l.shp\n",
      "  - CARTAS TOPOGRAFICAS\\E14A39_III\\conjunto_de_datos\\vegeta_dens50_a.shp\n",
      "  - CARTAS TOPOGRAFICAS\\E14A39_III\\conjunto_de_datos\\via_ferrea50_l.shp\n",
      "Archivos .shp encontrados en CARTAS TOPOGRAFICAS\\E14A49_III\\conjunto_de_datos:\n",
      "  - CARTAS TOPOGRAFICAS\\E14A49_III\\conjunto_de_datos\\acueducto50_l.shp\n",
      "  - CARTAS TOPOGRAFICAS\\E14A49_III\\conjunto_de_datos\\area_cultiv50_a.shp\n",
      "  - CARTAS TOPOGRAFICAS\\E14A49_III\\conjunto_de_datos\\ban_mat50_p.shp\n",
      "  - CARTAS TOPOGRAFICAS\\E14A49_III\\conjunto_de_datos\\bordo50_l.shp\n",
      "  - CARTAS TOPOGRAFICAS\\E14A49_III\\conjunto_de_datos\\calle50_l.shp\n",
      "  - CARTAS TOPOGRAFICAS\\E14A49_III\\conjunto_de_datos\\camino50_l.shp\n",
      "  - CARTAS TOPOGRAFICAS\\E14A49_III\\conjunto_de_datos\\canal50_l.shp\n",
      "  - CARTAS TOPOGRAFICAS\\E14A49_III\\conjunto_de_datos\\carretera50_l.shp\n",
      "  - CARTAS TOPOGRAFICAS\\E14A49_III\\conjunto_de_datos\\caseta_peaj50_p.shp\n",
      "  - CARTAS TOPOGRAFICAS\\E14A49_III\\conjunto_de_datos\\cementerio50_a.shp\n",
      "  - CARTAS TOPOGRAFICAS\\E14A49_III\\conjunto_de_datos\\cementerio50_p.shp\n",
      "  - CARTAS TOPOGRAFICAS\\E14A49_III\\conjunto_de_datos\\conducto50_l.shp\n",
      "  - CARTAS TOPOGRAFICAS\\E14A49_III\\conjunto_de_datos\\corriente_ag50_l.shp\n",
      "  - CARTAS TOPOGRAFICAS\\E14A49_III\\conjunto_de_datos\\corriente_de50_p.shp\n",
      "  - CARTAS TOPOGRAFICAS\\E14A49_III\\conjunto_de_datos\\cuerpo_agua50_a.shp\n",
      "  - CARTAS TOPOGRAFICAS\\E14A49_III\\conjunto_de_datos\\curva_nivel50_l.shp\n",
      "  - CARTAS TOPOGRAFICAS\\E14A49_III\\conjunto_de_datos\\edificacion50_a.shp\n",
      "  - CARTAS TOPOGRAFICAS\\E14A49_III\\conjunto_de_datos\\edificacion50_p.shp\n",
      "  - CARTAS TOPOGRAFICAS\\E14A49_III\\conjunto_de_datos\\estanque50_a.shp\n",
      "  - CARTAS TOPOGRAFICAS\\E14A49_III\\conjunto_de_datos\\estruc_ele50_p.shp\n",
      "  - CARTAS TOPOGRAFICAS\\E14A49_III\\conjunto_de_datos\\ins_bombeo50_p.shp\n",
      "  - CARTAS TOPOGRAFICAS\\E14A49_III\\conjunto_de_datos\\ins_comunica50_p.shp\n",
      "  - CARTAS TOPOGRAFICAS\\E14A49_III\\conjunto_de_datos\\ins_deportiv50_a.shp\n",
      "  - CARTAS TOPOGRAFICAS\\E14A49_III\\conjunto_de_datos\\ins_deportiv50_p.shp\n",
      "  - CARTAS TOPOGRAFICAS\\E14A49_III\\conjunto_de_datos\\ins_diversa50_a.shp\n",
      "  - CARTAS TOPOGRAFICAS\\E14A49_III\\conjunto_de_datos\\ins_diversa50_p.shp\n",
      "  - CARTAS TOPOGRAFICAS\\E14A49_III\\conjunto_de_datos\\lindero50_l.shp\n",
      "  - CARTAS TOPOGRAFICAS\\E14A49_III\\conjunto_de_datos\\linea_com50_l.shp\n",
      "  - CARTAS TOPOGRAFICAS\\E14A49_III\\conjunto_de_datos\\linea_trans50_l.shp\n",
      "  - CARTAS TOPOGRAFICAS\\E14A49_III\\conjunto_de_datos\\localidad50_a.shp\n",
      "  - CARTAS TOPOGRAFICAS\\E14A49_III\\conjunto_de_datos\\localidad50_p.shp\n",
      "  - CARTAS TOPOGRAFICAS\\E14A49_III\\conjunto_de_datos\\malpais50_a.shp\n",
      "  - CARTAS TOPOGRAFICAS\\E14A49_III\\conjunto_de_datos\\manantial50_p.shp\n",
      "  - CARTAS TOPOGRAFICAS\\E14A49_III\\conjunto_de_datos\\puente50_l.shp\n",
      "  - CARTAS TOPOGRAFICAS\\E14A49_III\\conjunto_de_datos\\rasgo_arque50_p.shp\n",
      "  - CARTAS TOPOGRAFICAS\\E14A49_III\\conjunto_de_datos\\referencia50_p.shp\n",
      "  - CARTAS TOPOGRAFICAS\\E14A49_III\\conjunto_de_datos\\subesta_ele50_a.shp\n",
      "  - CARTAS TOPOGRAFICAS\\E14A49_III\\conjunto_de_datos\\subesta_ele50_p.shp\n",
      "  - CARTAS TOPOGRAFICAS\\E14A49_III\\conjunto_de_datos\\tanque_agua50_a.shp\n",
      "  - CARTAS TOPOGRAFICAS\\E14A49_III\\conjunto_de_datos\\tanque_agua50_p.shp\n",
      "  - CARTAS TOPOGRAFICAS\\E14A49_III\\conjunto_de_datos\\terreno_suj50_a.shp\n",
      "  - CARTAS TOPOGRAFICAS\\E14A49_III\\conjunto_de_datos\\vegeta_dens50_a.shp\n",
      "  - CARTAS TOPOGRAFICAS\\E14A49_III\\conjunto_de_datos\\via_ferrea50_l.shp\n"
     ]
    }
   ],
   "source": [
    "#Busqueda de los archivos shp en las carpetas\n",
    "def buscar_archivos_shp(carpeta):\n",
    "    archivos_shp = []    \n",
    "    for raiz, directorios, archivos in os.walk(carpeta):\n",
    "        for archivo in archivos:\n",
    "            if archivo.endswith('.shp'):\n",
    "                ruta_archivo = os.path.join(raiz, archivo)\n",
    "                archivos_shp.append(ruta_archivo)    \n",
    "    return archivos_shp\n",
    "    \n",
    "for carpeta in os.listdir(carpeta_zip):\n",
    "    ruta_carpeta = os.path.join(carpeta_zip, carpeta)    \n",
    "    if os.path.isdir(ruta_carpeta):\n",
    "        ruta_conjunto_datos = os.path.join(ruta_carpeta, 'conjunto_de_datos')        \n",
    "        if os.path.isdir(ruta_conjunto_datos):\n",
    "            archivos_shp = buscar_archivos_shp(ruta_conjunto_datos)            \n",
    "            if archivos_shp:\n",
    "                print(f\"Archivos .shp encontrados en {ruta_conjunto_datos}:\")\n",
    "                for archivo in archivos_shp:\n",
    "                    print(f\"  - {archivo}\")\n",
    "            else:\n",
    "                print(f\"No se encontraron archivos .shp en {ruta_conjunto_datos}.\")"
   ]
  },
  {
   "cell_type": "code",
   "execution_count": 24,
   "id": "acab0093-f3a4-4f0f-a776-1963e0728e20",
   "metadata": {},
   "outputs": [
    {
     "name": "stdout",
     "output_type": "stream",
     "text": [
      "Archivo unido y cortado guardado en: CARTAS TOPOGRAFICAS\\C09013_ACUEDUCTO50_L_INEGI_Serie_III.geojson\n",
      "Archivo unido y cortado guardado en: CARTAS TOPOGRAFICAS\\C09013_CANAL50_L_INEGI_Serie_III.geojson\n",
      "Archivo unido y cortado guardado en: CARTAS TOPOGRAFICAS\\C09013_CORRIENTE_AG50_L_INEGI_Serie_III.geojson\n",
      "Archivo unido y cortado guardado en: CARTAS TOPOGRAFICAS\\C09013_CUERPO_AGUA50_A_INEGI_Serie_III.geojson\n",
      "Archivo unido y cortado guardado en: CARTAS TOPOGRAFICAS\\C09013_CURVA_NIVEL50_L_INEGI_Serie_III.geojson\n",
      "Archivo unido y cortado guardado en: CARTAS TOPOGRAFICAS\\C09013_LINEA_TRANS50_L_INEGI_Serie_III.geojson\n",
      "El GeoDataFrame resultante de canal50_a.shp está vacío después del corte.\n",
      "Archivo unido y cortado guardado en: CARTAS TOPOGRAFICAS\\C09013_CONDUCTO50_L_INEGI_Serie_III.geojson\n",
      "El GeoDataFrame resultante de via_ferrea50_l.shp está vacío después del corte.\n",
      "El GeoDataFrame resultante de aeropuerto50_a.shp está vacío después del corte.\n",
      "Archivo unido y cortado guardado en: CARTAS TOPOGRAFICAS\\C09013_VEGETA_DENS50_A_INEGI_Serie_III.geojson\n",
      "Proceso de unión y corte completo.\n"
     ]
    }
   ],
   "source": [
    "#Busqueda, unión y corte de los archivos vectoriales a la zona de interés\n",
    "''' \n",
    "Aqui puedes buscar los archivos que te interesen, dejo enlistados los elementos básicos de topogrfía para crear un mapa base, pero puedes cambiar los nombres de los\n",
    "archivos de acuerdo a lo que te interese, tambien se le crearan campos nuevos referentes a la clave de la entidad, la clave del muicipio y se filtran\n",
    "los campos que se quieren conservar. \n",
    "Al final, se guardan los archivos con la clave del municipio, el nombre de la capa, la fuente y la serie.\n",
    "Si una capa no cae dentro de los límites de la zona corte, no se generará el archivo.\n",
    "'''\n",
    "nombres_archivos = ['acueducto50_l.shp', 'canal50_l.shp', 'corriente_ag50_l.shp','cuerpo_agua50_a.shp', 'curva_nivel50_l.shp', 'linea_trans50_l.shp','canal50_a.shp', 'conducto50_l.shp', 'via_ferrea50_l.shp','aeropuerto50_a.shp', 'vegeta_dens50_a.shp']\n",
    "\n",
    "def buscar_archivos(carpeta, nombres_archivos):\n",
    "    archivos_encontrados = {nombre: [] for nombre in nombres_archivos}\n",
    "    for raiz, directorios, archivos in os.walk(carpeta):\n",
    "        for archivo in archivos:\n",
    "            if archivo in nombres_archivos:\n",
    "                archivos_encontrados[archivo].append(os.path.join(raiz, archivo))\n",
    "    return archivos_encontrados\n",
    "    \n",
    "carpeta_zip = 'CARTAS TOPOGRAFICAS'\n",
    "\n",
    "gdfs_dict = {nombre: [] for nombre in nombres_archivos}\n",
    "\n",
    "for carpeta in os.listdir(carpeta_zip):\n",
    "    ruta = os.path.join(carpeta_zip, carpeta)\n",
    "    if os.path.isdir(ruta):\n",
    "        ruta_conjunto_de_datos = os.path.join(ruta, 'conjunto_de_datos')\n",
    "        if os.path.isdir(ruta_conjunto_de_datos):\n",
    "            archivos_encontrados = buscar_archivos(ruta_conjunto_de_datos, nombres_archivos)            \n",
    "            for nombre_archivo, rutas_archivos in archivos_encontrados.items():\n",
    "                for ruta_archivo in rutas_archivos:\n",
    "                    gdf = gpd.read_file(ruta_archivo)\n",
    "                    gdf = gdf.to_crs(epsg=6372)\n",
    "                    gdf['Cve_Ent'] = cve_ent\n",
    "                    gdf['Cve_MunC'] = cvegeo\n",
    "                    campos_a_conservar = [campo for campo in ['geografico', 'elevacion', 'nombre'] if campo in gdf.columns]\n",
    "                    gdf = gdf[['geometry', 'Cve_Ent', 'Cve_MunC'] + campos_a_conservar]\n",
    "                    gdfs_dict[nombre_archivo].append(gdf)\n",
    "                    \n",
    "for nombre_archivo, gdfs in gdfs_dict.items():\n",
    "    if gdfs:\n",
    "        gdf_unido = gpd.GeoDataFrame(pd.concat(gdfs, ignore_index=True))\n",
    "        if gdf_unido.crs != 'EPSG:6372':\n",
    "            gdf_unido = gdf_unido.to_crs(epsg=6372)        \n",
    "        gdf_cortado = gpd.overlay(gdf_unido, zona_corte, how='intersection')        \n",
    "        if not gdf_cortado.empty:\n",
    "            nombre_archivo_mayus = nombre_archivo.upper()\n",
    "            nombre_salida = f\"C{cvegeo}_{os.path.splitext(nombre_archivo_mayus)[0]}_INEGI_Serie_III.geojson\"\n",
    "            ruta_salida = os.path.join(carpeta_zip, nombre_salida)\n",
    "            gdf_cortado.to_file(ruta_salida)\n",
    "            print(f\"Archivo unido y cortado guardado en: {ruta_salida}\")\n",
    "        else:\n",
    "            print(f\"El GeoDataFrame resultante de {nombre_archivo} está vacío después del corte.\")\n",
    "print(\"Proceso de unión y corte completo.\")"
   ]
  },
  {
   "cell_type": "code",
   "execution_count": 40,
   "id": "27a1a045-bde2-4329-9344-a0ebdbe24f8d",
   "metadata": {},
   "outputs": [],
   "source": [
    "# Descarga de datos del Marco Geoestadístico Nacional (reemplaza la URL con la de la entidad de tu interés)\n",
    "url = \"https://www.inegi.org.mx/contenidos/productos/prod_serv/contenidos/espanol/bvinegi/productos/geografia/marcogeo/794551132173/09_ciudaddemexico.zip\"\n",
    "zip_filename = \"09_ciudaddemexico.zip\"\n",
    "extract_folder = \"09_ciudaddemexico\"\n",
    "\n",
    "# Descargar el archivo ZIP\n",
    "response = requests.get(url, timeout=5000, stream=True)\n",
    "with open(zip_filename, \"wb\") as file:\n",
    "    for chunk in response.iter_content(chunk_size=8192):\n",
    "        file.write(chunk)\n",
    "\n",
    "# Extraer el contenido del ZIP\n",
    "with zipfile.ZipFile(zip_filename, \"r\") as zip_ref:\n",
    "    zip_ref.extractall(extract_folder)"
   ]
  },
  {
   "cell_type": "code",
   "execution_count": 42,
   "id": "f5f02f61-6f11-4810-ac4c-662c9db4b628",
   "metadata": {},
   "outputs": [
    {
     "name": "stdout",
     "output_type": "stream",
     "text": [
      "Proceso de unión y corte completo.\n"
     ]
    }
   ],
   "source": [
    "# Buscar archivos shapefile dentro de la carpeta \"conjunto_de_datos\"\n",
    "nombres_archivos = ['09m.shp', '09l.shp']\n",
    "\n",
    "def buscar_archivos(carpeta, nombres_archivos):\n",
    "    archivos_encontrados = {nombre: [] for nombre in nombres_archivos}\n",
    "    for raiz, directorios, archivos in os.walk(carpeta):\n",
    "        for archivo in archivos:\n",
    "            if archivo in nombres_archivos:\n",
    "                archivos_encontrados[archivo].append(os.path.join(raiz, archivo))\n",
    "    return archivos_encontrados\n",
    "    \n",
    "carpeta_zip = '09_ciudaddemexico'\n",
    "\n",
    "gdfs_dict = {nombre: [] for nombre in nombres_archivos}\n",
    "\n",
    "for carpeta in os.listdir(carpeta_zip):\n",
    "    ruta = os.path.join(carpeta_zip, carpeta)\n",
    "    if os.path.isdir(ruta):\n",
    "        ruta_conjunto_de_datos = os.path.join(ruta, 'conjunto_de_datos')\n",
    "        if os.path.isdir(ruta_conjunto_de_datos):\n",
    "            archivos_encontrados = buscar_archivos(ruta_conjunto_de_datos, nombres_archivos)            \n",
    "            for nombre_archivo, rutas_archivos in archivos_encontrados.items():\n",
    "                for ruta_archivo in rutas_archivos:\n",
    "                    gdf = gpd.read_file(ruta_archivo)\n",
    "                    gdf = gdf.to_crs(epsg=6372)\n",
    "                    gdf['Cve_Ent'] = cve_ent\n",
    "                    gdf['Cve_MunC'] = cvegeo\n",
    "                    campos_a_conservar = [campo for campo in ['geografico', 'elevacion', 'nombre'] if campo in gdf.columns]\n",
    "                    gdf = gdf[['geometry', 'Cve_Ent', 'Cve_MunC'] + campos_a_conservar]\n",
    "                    gdfs_dict[nombre_archivo].append(gdf)\n",
    "                    \n",
    "for nombre_archivo, gdfs in gdfs_dict.items():\n",
    "    if gdfs:\n",
    "        gdf_unido = gpd.GeoDataFrame(pd.concat(gdfs, ignore_index=True))\n",
    "        if gdf_unido.crs != 'EPSG:6372':\n",
    "            gdf_unido = gdf_unido.to_crs(epsg=6372)        \n",
    "        gdf_cortado = gpd.overlay(gdf_unido, zona_corte, how='intersection')        \n",
    "        if not gdf_cortado.empty:\n",
    "            nombre_archivo_mayus = nombre_archivo.upper()\n",
    "            nombre_salida = f\"C{cvegeo}_{os.path.splitext(nombre_archivo_mayus)[0]}_INEGI_Serie_III.geojson\"\n",
    "            ruta_salida = os.path.join(carpeta_zip, nombre_salida)\n",
    "            gdf_cortado.to_file(ruta_salida)\n",
    "            print(f\"Archivo unido y cortado guardado en: {ruta_salida}\")\n",
    "        else:\n",
    "            print(f\"El GeoDataFrame resultante de {nombre_archivo} está vacío después del corte.\")\n",
    "print(\"Proceso de unión y corte completo.\")"
   ]
  },
  {
   "cell_type": "code",
   "execution_count": null,
   "id": "a80f7aae-6f77-4b4b-8752-5930d5990a6b",
   "metadata": {},
   "outputs": [],
   "source": []
  }
 ],
 "metadata": {
  "kernelspec": {
   "display_name": "Python 3 (ipykernel)",
   "language": "python",
   "name": "python3"
  },
  "language_info": {
   "codemirror_mode": {
    "name": "ipython",
    "version": 3
   },
   "file_extension": ".py",
   "mimetype": "text/x-python",
   "name": "python",
   "nbconvert_exporter": "python",
   "pygments_lexer": "ipython3",
   "version": "3.8.20"
  }
 },
 "nbformat": 4,
 "nbformat_minor": 5
}
